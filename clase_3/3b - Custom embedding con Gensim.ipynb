{
 "cells": [
  {
   "cell_type": "markdown",
   "metadata": {
    "id": "sZd5yLnnHOK0"
   },
   "source": [
    "<img src=\"https://github.com/hernancontigiani/ceia_memorias_especializacion/raw/master/Figures/logoFIUBA.jpg\" width=\"500\" align=\"center\">\n",
    "\n",
    "\n",
    "# Procesamiento de lenguaje natural\n",
    "## Custom embedddings con Gensim\n",
    "\n"
   ]
  },
  {
   "cell_type": "markdown",
   "metadata": {
    "id": "vA7nqkumo9z9"
   },
   "source": [
    "### Objetivo\n",
    "El objetivo es utilizar documentos / corpus para crear embeddings de palabras basado en ese contexto. Se utilizará canciones de bandas para generar los embeddings, es decir, que los vectores tendrán la forma en función de como esa banda haya utilizado las palabras en sus canciones."
   ]
  },
  {
   "cell_type": "code",
   "execution_count": 1,
   "metadata": {
    "id": "lFToQs5FK5uZ"
   },
   "outputs": [],
   "source": [
    "import pandas as pd\n",
    "import matplotlib.pyplot as plt\n",
    "import seaborn as sns\n",
    "\n",
    "import multiprocessing\n",
    "from gensim.models import Word2Vec"
   ]
  },
  {
   "cell_type": "markdown",
   "metadata": {
    "id": "g07zJxG7H9vG"
   },
   "source": [
    "### Datos\n",
    "Utilizaremos como dataset el libro de la republica de platon"
   ]
  },
  {
   "cell_type": "code",
   "execution_count": 2,
   "metadata": {
    "id": "ticoqYD1Z3I7"
   },
   "outputs": [
    {
     "data": {
      "text/html": [
       "<div>\n",
       "<style scoped>\n",
       "    .dataframe tbody tr th:only-of-type {\n",
       "        vertical-align: middle;\n",
       "    }\n",
       "\n",
       "    .dataframe tbody tr th {\n",
       "        vertical-align: top;\n",
       "    }\n",
       "\n",
       "    .dataframe thead th {\n",
       "        text-align: right;\n",
       "    }\n",
       "</style>\n",
       "<table border=\"1\" class=\"dataframe\">\n",
       "  <thead>\n",
       "    <tr style=\"text-align: right;\">\n",
       "      <th></th>\n",
       "      <th>0</th>\n",
       "    </tr>\n",
       "  </thead>\n",
       "  <tbody>\n",
       "    <tr>\n",
       "      <th>0</th>\n",
       "      <td>ï»¿The Project Gutenberg EBook of The Republic...</td>\n",
       "    </tr>\n",
       "    <tr>\n",
       "      <th>1</th>\n",
       "      <td></td>\n",
       "    </tr>\n",
       "    <tr>\n",
       "      <th>2</th>\n",
       "      <td>This eBook is for the use of anyone anywhere i...</td>\n",
       "    </tr>\n",
       "    <tr>\n",
       "      <th>3</th>\n",
       "      <td>other parts of the world at no cost and with a...</td>\n",
       "    </tr>\n",
       "    <tr>\n",
       "      <th>4</th>\n",
       "      <td>whatsoever.  You may copy it, give it away or ...</td>\n",
       "    </tr>\n",
       "  </tbody>\n",
       "</table>\n",
       "</div>"
      ],
      "text/plain": [
       "                                                   0\n",
       "0  ï»¿The Project Gutenberg EBook of The Republic...\n",
       "1                                                   \n",
       "2  This eBook is for the use of anyone anywhere i...\n",
       "3  other parts of the world at no cost and with a...\n",
       "4  whatsoever.  You may copy it, give it away or ..."
      ]
     },
     "execution_count": 2,
     "metadata": {},
     "output_type": "execute_result"
    }
   ],
   "source": [
    "\n",
    "with open('./dataset/the_republic.txt') as f:\n",
    "    content = f.readlines()\n",
    "\n",
    "content = [x.strip() for x in content] \n",
    "df = pd.DataFrame(content)\n",
    "df.head()"
   ]
  },
  {
   "cell_type": "code",
   "execution_count": 3,
   "metadata": {
    "id": "LEpKubK9XzXN"
   },
   "outputs": [
    {
     "name": "stdout",
     "output_type": "stream",
     "text": [
      "Cantidad de documentos: 29809\n"
     ]
    }
   ],
   "source": [
    "print(\"Cantidad de documentos:\", df.shape[0])"
   ]
  },
  {
   "cell_type": "markdown",
   "metadata": {
    "id": "ab94qaFlrA1G"
   },
   "source": [
    "### 1 - Preprocesamiento"
   ]
  },
  {
   "cell_type": "code",
   "execution_count": 4,
   "metadata": {
    "id": "rIsmMWmjrDHd"
   },
   "outputs": [],
   "source": [
    "from keras.preprocessing.text import text_to_word_sequence\n",
    "\n",
    "sentence_tokens = []\n",
    "# Recorrer todas las filas y transformar las oraciones\n",
    "# en una secuencia de palabras (esto podría realizarse con NLTK o spaCy también)\n",
    "for _, row in df[:None].iterrows():\n",
    "    sentence_tokens.append(text_to_word_sequence(row[0]))"
   ]
  },
  {
   "cell_type": "code",
   "execution_count": 5,
   "metadata": {
    "id": "CHepi_DGrbhq"
   },
   "outputs": [
    {
     "data": {
      "text/plain": [
       "[['ï»¿the',\n",
       "  'project',\n",
       "  'gutenberg',\n",
       "  'ebook',\n",
       "  'of',\n",
       "  'the',\n",
       "  'republic',\n",
       "  'of',\n",
       "  'plato',\n",
       "  'by',\n",
       "  'plato'],\n",
       " []]"
      ]
     },
     "execution_count": 5,
     "metadata": {},
     "output_type": "execute_result"
    }
   ],
   "source": [
    "# Demos un vistazo\n",
    "sentence_tokens[:2]"
   ]
  },
  {
   "cell_type": "markdown",
   "metadata": {
    "id": "BaXV6nlHr5Aa"
   },
   "source": [
    "### 2 - Crear los vectores (word2vec)"
   ]
  },
  {
   "cell_type": "code",
   "execution_count": 6,
   "metadata": {
    "id": "OSb0v7h8r7hK"
   },
   "outputs": [],
   "source": [
    "from gensim.models.callbacks import CallbackAny2Vec\n",
    "# Durante el entrenamiento gensim por defecto no informa el \"loss\" en cada época\n",
    "# Sobrecargamos el callback para poder tener esta información\n",
    "class callback(CallbackAny2Vec):\n",
    "    \"\"\"\n",
    "    Callback to print loss after each epoch\n",
    "    \"\"\"\n",
    "    def __init__(self):\n",
    "        self.epoch = 0\n",
    "\n",
    "    def on_epoch_end(self, model):\n",
    "        loss = model.get_latest_training_loss()\n",
    "        if self.epoch == 0:\n",
    "            print('Loss after epoch {}: {}'.format(self.epoch, loss))\n",
    "        else:\n",
    "            print('Loss after epoch {}: {}'.format(self.epoch, loss- self.loss_previous_step))\n",
    "        self.epoch += 1\n",
    "        self.loss_previous_step = loss"
   ]
  },
  {
   "cell_type": "code",
   "execution_count": 7,
   "metadata": {
    "id": "i0wnDdv9sJ47"
   },
   "outputs": [],
   "source": [
    "# Crearmos el modelo generador de vectores\n",
    "# En este caso utilizaremos la estructura modelo Skipgram\n",
    "w2v_model = Word2Vec(min_count=5,    # frecuencia mínima de palabra para incluirla en el vocabulario\n",
    "                     window=2,       # cant de palabras antes y desp de la predicha\n",
    "                     vector_size=600,       # dimensionalidad de los vectores \n",
    "                     negative=20,    # cantidad de negative samples... 0 es no se usa\n",
    "                     workers=3,      # si tienen más cores pueden cambiar este valor\n",
    "                     sg=1)           # modelo 0:CBOW  1:skipgram"
   ]
  },
  {
   "cell_type": "code",
   "execution_count": 8,
   "metadata": {
    "id": "5lTt8wErsf17"
   },
   "outputs": [],
   "source": [
    "# Obtener el vocabulario con los tokens\n",
    "w2v_model.build_vocab(sentence_tokens)"
   ]
  },
  {
   "cell_type": "code",
   "execution_count": 9,
   "metadata": {
    "id": "TNc9qt4os5AT"
   },
   "outputs": [
    {
     "name": "stdout",
     "output_type": "stream",
     "text": [
      "Cantidad de docs en el corpus: 29809\n"
     ]
    }
   ],
   "source": [
    "# Cantidad de filas/docs encontradas en el corpus\n",
    "print(\"Cantidad de docs en el corpus:\", w2v_model.corpus_count)"
   ]
  },
  {
   "cell_type": "code",
   "execution_count": 10,
   "metadata": {
    "id": "idw9cHF3tSMl"
   },
   "outputs": [
    {
     "ename": "AttributeError",
     "evalue": "The vocab attribute was removed from KeyedVector in Gensim 4.0.0.\nUse KeyedVector's .key_to_index dict, .index_to_key list, and methods .get_vecattr(key, attr) and .set_vecattr(key, attr, new_val) instead.\nSee https://github.com/RaRe-Technologies/gensim/wiki/Migrating-from-Gensim-3.x-to-4",
     "output_type": "error",
     "traceback": [
      "\u001b[1;31m---------------------------------------------------------------------------\u001b[0m",
      "\u001b[1;31mAttributeError\u001b[0m                            Traceback (most recent call last)",
      "Cell \u001b[1;32mIn[10], line 2\u001b[0m\n\u001b[0;32m      1\u001b[0m \u001b[39m# Cantidad de words encontradas en el corpus\u001b[39;00m\n\u001b[1;32m----> 2\u001b[0m \u001b[39mprint\u001b[39m(\u001b[39m\"\u001b[39m\u001b[39mCantidad de words distintas en el corpus:\u001b[39m\u001b[39m\"\u001b[39m, \u001b[39mlen\u001b[39m(w2v_model\u001b[39m.\u001b[39;49mwv\u001b[39m.\u001b[39;49mvocab))\n",
      "File \u001b[1;32mc:\\Users\\a\\Documents\\UBA\\NLP\\venv\\lib\\site-packages\\gensim\\models\\keyedvectors.py:734\u001b[0m, in \u001b[0;36mKeyedVectors.vocab\u001b[1;34m(self)\u001b[0m\n\u001b[0;32m    732\u001b[0m \u001b[39m@property\u001b[39m\n\u001b[0;32m    733\u001b[0m \u001b[39mdef\u001b[39;00m \u001b[39mvocab\u001b[39m(\u001b[39mself\u001b[39m):\n\u001b[1;32m--> 734\u001b[0m     \u001b[39mraise\u001b[39;00m \u001b[39mAttributeError\u001b[39;00m(\n\u001b[0;32m    735\u001b[0m         \u001b[39m\"\u001b[39m\u001b[39mThe vocab attribute was removed from KeyedVector in Gensim 4.0.0.\u001b[39m\u001b[39m\\n\u001b[39;00m\u001b[39m\"\u001b[39m\n\u001b[0;32m    736\u001b[0m         \u001b[39m\"\u001b[39m\u001b[39mUse KeyedVector\u001b[39m\u001b[39m'\u001b[39m\u001b[39ms .key_to_index dict, .index_to_key list, and methods \u001b[39m\u001b[39m\"\u001b[39m\n\u001b[0;32m    737\u001b[0m         \u001b[39m\"\u001b[39m\u001b[39m.get_vecattr(key, attr) and .set_vecattr(key, attr, new_val) instead.\u001b[39m\u001b[39m\\n\u001b[39;00m\u001b[39m\"\u001b[39m\n\u001b[0;32m    738\u001b[0m         \u001b[39m\"\u001b[39m\u001b[39mSee https://github.com/RaRe-Technologies/gensim/wiki/Migrating-from-Gensim-3.x-to-4\u001b[39m\u001b[39m\"\u001b[39m\n\u001b[0;32m    739\u001b[0m     )\n",
      "\u001b[1;31mAttributeError\u001b[0m: The vocab attribute was removed from KeyedVector in Gensim 4.0.0.\nUse KeyedVector's .key_to_index dict, .index_to_key list, and methods .get_vecattr(key, attr) and .set_vecattr(key, attr, new_val) instead.\nSee https://github.com/RaRe-Technologies/gensim/wiki/Migrating-from-Gensim-3.x-to-4"
     ]
    }
   ],
   "source": [
    "# Cantidad de words encontradas en el corpus\n",
    "print(\"Cantidad de words distintas en el corpus:\", len(w2v_model.wv.vocab))"
   ]
  },
  {
   "cell_type": "markdown",
   "metadata": {
    "id": "fC9mZ8DPk-UC"
   },
   "source": [
    "### 3 - Entrenar el modelo generador"
   ]
  },
  {
   "cell_type": "code",
   "execution_count": 11,
   "metadata": {
    "id": "QSp-x0PAsq56"
   },
   "outputs": [
    {
     "name": "stdout",
     "output_type": "stream",
     "text": [
      "Loss after epoch 0: 661435.375\n",
      "Loss after epoch 1: 520184.625\n",
      "Loss after epoch 2: 467002.0\n",
      "Loss after epoch 3: 461811.5\n",
      "Loss after epoch 4: 409495.25\n",
      "Loss after epoch 5: 407040.75\n",
      "Loss after epoch 6: 402421.0\n",
      "Loss after epoch 7: 397382.25\n",
      "Loss after epoch 8: 397290.5\n",
      "Loss after epoch 9: 370586.25\n",
      "Loss after epoch 10: 366384.5\n",
      "Loss after epoch 11: 359934.0\n",
      "Loss after epoch 12: 358997.5\n",
      "Loss after epoch 13: 356032.5\n",
      "Loss after epoch 14: 353538.5\n",
      "Loss after epoch 15: 352286.5\n",
      "Loss after epoch 16: 348761.0\n",
      "Loss after epoch 17: 351177.0\n",
      "Loss after epoch 18: 348377.5\n",
      "Loss after epoch 19: 348323.5\n"
     ]
    },
    {
     "data": {
      "text/plain": [
       "(3329558, 5170680)"
      ]
     },
     "execution_count": 11,
     "metadata": {},
     "output_type": "execute_result"
    }
   ],
   "source": [
    "# Entrenamos el modelo generador de vectores\n",
    "# Utilizamos nuestro callback\n",
    "w2v_model.train(sentence_tokens,\n",
    "                 total_examples=w2v_model.corpus_count,\n",
    "                 epochs=20,\n",
    "                 compute_loss = True,\n",
    "                 callbacks=[callback()]\n",
    "                 )"
   ]
  },
  {
   "cell_type": "markdown",
   "metadata": {
    "id": "ddT9NVuNlCAe"
   },
   "source": [
    "### 4 - Ensayar"
   ]
  },
  {
   "cell_type": "code",
   "execution_count": 15,
   "metadata": {
    "id": "6cHN9xGLuPEm"
   },
   "outputs": [
    {
     "data": {
      "text/plain": [
       "[('analysis', 0.6907597780227661),\n",
       " ('introduction', 0.6811822652816772),\n",
       " ('books', 0.6379269957542419),\n",
       " ('recapitulation', 0.6356292963027954),\n",
       " ('book', 0.6238475441932678),\n",
       " ('cicero', 0.6202841997146606),\n",
       " ('illustrations', 0.6078434586524963),\n",
       " ('odyssey', 0.6017596125602722),\n",
       " ('consistency', 0.5938580632209778),\n",
       " ('fifth', 0.5918599963188171)]"
      ]
     },
     "execution_count": 15,
     "metadata": {},
     "output_type": "execute_result"
    }
   ],
   "source": [
    "# Palabras que MÁS se relacionan con...:\n",
    "w2v_model.wv.most_similar(positive=[\"republic\"], topn=10)"
   ]
  },
  {
   "cell_type": "code",
   "execution_count": 13,
   "metadata": {
    "id": "47HiU5gdkdMq"
   },
   "outputs": [
    {
     "data": {
      "text/plain": [
       "[('how', 0.0008103308500722051),\n",
       " ('me', -0.02552296221256256),\n",
       " ('two', -0.03827720880508423),\n",
       " ('we', -0.05737166479229927),\n",
       " ('first', -0.057613566517829895),\n",
       " ('different', -0.06142646074295044),\n",
       " ('was', -0.06203175336122513),\n",
       " ('further', -0.06314301490783691),\n",
       " ('going', -0.06742909550666809),\n",
       " ('what', -0.06754294037818909)]"
      ]
     },
     "execution_count": 13,
     "metadata": {},
     "output_type": "execute_result"
    }
   ],
   "source": [
    "# Palabras que MENOS se relacionan con...:\n",
    "w2v_model.wv.most_similar(negative=[\"love\"], topn=10)"
   ]
  },
  {
   "cell_type": "code",
   "execution_count": 14,
   "metadata": {
    "id": "DT4Rvno2mD65"
   },
   "outputs": [
    {
     "data": {
      "text/plain": [
       "[('phoenix', 0.8176901340484619),\n",
       " ('apollo', 0.8032463788986206),\n",
       " ('herã¨', 0.7860184907913208),\n",
       " ('391', 0.7854374647140503),\n",
       " ('zeus', 0.7790477871894836),\n",
       " ('chryses', 0.7762696146965027),\n",
       " ('peirithous', 0.7708088755607605),\n",
       " ('patroclus', 0.7677872776985168),\n",
       " ('388', 0.7651506066322327),\n",
       " ('392', 0.7642678618431091)]"
      ]
     },
     "execution_count": 14,
     "metadata": {},
     "output_type": "execute_result"
    }
   ],
   "source": [
    "# Palabras que MÁS se relacionan con...:\n",
    "w2v_model.wv.most_similar(positive=[\"achilles\"], topn=10)"
   ]
  },
  {
   "cell_type": "code",
   "execution_count": 22,
   "metadata": {
    "id": "XPLDPgzBmQXt"
   },
   "outputs": [
    {
     "data": {
      "text/plain": [
       "[('interposing', 0.6217087507247925),\n",
       " ('thrasymachus', 0.6173322200775146),\n",
       " ('cleitophon', 0.6075360774993896),\n",
       " ('cephalus', 0.5973382592201233),\n",
       " ('adeimantus', 0.5817573070526123)]"
      ]
     },
     "execution_count": 22,
     "metadata": {},
     "output_type": "execute_result"
    }
   ],
   "source": [
    "# Palabras que MÁS se relacionan con...:\n",
    "w2v_model.wv.most_similar(positive=[\"socrates\"], topn=5)"
   ]
  },
  {
   "cell_type": "code",
   "execution_count": 21,
   "metadata": {},
   "outputs": [
    {
     "data": {
      "text/plain": [
       "[('eristic', 0.8113694787025452),\n",
       " ('detained', 0.8089227080345154),\n",
       " ('translated', 0.8029212951660156),\n",
       " ('rebuked', 0.7995917201042175),\n",
       " ('characterized', 0.797544538974762)]"
      ]
     },
     "execution_count": 21,
     "metadata": {},
     "output_type": "execute_result"
    }
   ],
   "source": [
    "# Palabras que MÁS se relacionan con...:\n",
    "w2v_model.wv.most_similar(positive=[\"cicero\"], topn=5)"
   ]
  },
  {
   "cell_type": "code",
   "execution_count": 15,
   "metadata": {
    "id": "L_UvHPMMklOr"
   },
   "outputs": [
    {
     "ename": "KeyError",
     "evalue": "\"Key 'diedaa' not present in vocabulary\"",
     "output_type": "error",
     "traceback": [
      "\u001b[1;31m---------------------------------------------------------------------------\u001b[0m",
      "\u001b[1;31mKeyError\u001b[0m                                  Traceback (most recent call last)",
      "Cell \u001b[1;32mIn[15], line 2\u001b[0m\n\u001b[0;32m      1\u001b[0m \u001b[39m# Ensayar con una palabra que no está en el vocabulario:\u001b[39;00m\n\u001b[1;32m----> 2\u001b[0m w2v_model\u001b[39m.\u001b[39;49mwv\u001b[39m.\u001b[39;49mmost_similar(negative\u001b[39m=\u001b[39;49m[\u001b[39m\"\u001b[39;49m\u001b[39mdiedaa\u001b[39;49m\u001b[39m\"\u001b[39;49m])\n",
      "File \u001b[1;32mc:\\Users\\a\\Documents\\UBA\\NLP\\venv\\lib\\site-packages\\gensim\\models\\keyedvectors.py:841\u001b[0m, in \u001b[0;36mKeyedVectors.most_similar\u001b[1;34m(self, positive, negative, topn, clip_start, clip_end, restrict_vocab, indexer)\u001b[0m\n\u001b[0;32m    838\u001b[0m         weight[idx] \u001b[39m=\u001b[39m item[\u001b[39m1\u001b[39m]\n\u001b[0;32m    840\u001b[0m \u001b[39m# compute the weighted average of all keys\u001b[39;00m\n\u001b[1;32m--> 841\u001b[0m mean \u001b[39m=\u001b[39m \u001b[39mself\u001b[39;49m\u001b[39m.\u001b[39;49mget_mean_vector(keys, weight, pre_normalize\u001b[39m=\u001b[39;49m\u001b[39mTrue\u001b[39;49;00m, post_normalize\u001b[39m=\u001b[39;49m\u001b[39mTrue\u001b[39;49;00m, ignore_missing\u001b[39m=\u001b[39;49m\u001b[39mFalse\u001b[39;49;00m)\n\u001b[0;32m    842\u001b[0m all_keys \u001b[39m=\u001b[39m [\n\u001b[0;32m    843\u001b[0m     \u001b[39mself\u001b[39m\u001b[39m.\u001b[39mget_index(key) \u001b[39mfor\u001b[39;00m key \u001b[39min\u001b[39;00m keys \u001b[39mif\u001b[39;00m \u001b[39misinstance\u001b[39m(key, _KEY_TYPES) \u001b[39mand\u001b[39;00m \u001b[39mself\u001b[39m\u001b[39m.\u001b[39mhas_index_for(key)\n\u001b[0;32m    844\u001b[0m ]\n\u001b[0;32m    846\u001b[0m \u001b[39mif\u001b[39;00m indexer \u001b[39mis\u001b[39;00m \u001b[39mnot\u001b[39;00m \u001b[39mNone\u001b[39;00m \u001b[39mand\u001b[39;00m \u001b[39misinstance\u001b[39m(topn, \u001b[39mint\u001b[39m):\n",
      "File \u001b[1;32mc:\\Users\\a\\Documents\\UBA\\NLP\\venv\\lib\\site-packages\\gensim\\models\\keyedvectors.py:518\u001b[0m, in \u001b[0;36mKeyedVectors.get_mean_vector\u001b[1;34m(self, keys, weights, pre_normalize, post_normalize, ignore_missing)\u001b[0m\n\u001b[0;32m    516\u001b[0m         total_weight \u001b[39m+\u001b[39m\u001b[39m=\u001b[39m \u001b[39mabs\u001b[39m(weights[idx])\n\u001b[0;32m    517\u001b[0m     \u001b[39melif\u001b[39;00m \u001b[39mnot\u001b[39;00m ignore_missing:\n\u001b[1;32m--> 518\u001b[0m         \u001b[39mraise\u001b[39;00m \u001b[39mKeyError\u001b[39;00m(\u001b[39mf\u001b[39m\u001b[39m\"\u001b[39m\u001b[39mKey \u001b[39m\u001b[39m'\u001b[39m\u001b[39m{\u001b[39;00mkey\u001b[39m}\u001b[39;00m\u001b[39m'\u001b[39m\u001b[39m not present in vocabulary\u001b[39m\u001b[39m\"\u001b[39m)\n\u001b[0;32m    520\u001b[0m \u001b[39mif\u001b[39;00m total_weight \u001b[39m>\u001b[39m \u001b[39m0\u001b[39m:\n\u001b[0;32m    521\u001b[0m     mean \u001b[39m=\u001b[39m mean \u001b[39m/\u001b[39m total_weight\n",
      "\u001b[1;31mKeyError\u001b[0m: \"Key 'diedaa' not present in vocabulary\""
     ]
    }
   ],
   "source": [
    "# Ensayar con una palabra que no está en el vocabulario:\n",
    "w2v_model.wv.most_similar(negative=[\"diedaa\"])"
   ]
  },
  {
   "cell_type": "markdown",
   "metadata": {
    "id": "_g8UVWe6lFmh"
   },
   "source": [
    "### 5 - Visualizar agrupación de vectores"
   ]
  },
  {
   "cell_type": "code",
   "execution_count": 18,
   "metadata": {
    "id": "pDxEVXAivjr9"
   },
   "outputs": [],
   "source": [
    "from sklearn.decomposition import IncrementalPCA    \n",
    "from sklearn.manifold import TSNE                   \n",
    "import numpy as np                                  \n",
    "\n",
    "def reduce_dimensions(model):\n",
    "    num_dimensions = 2  \n",
    "\n",
    "    vectors = np.asarray(model.wv.vectors)\n",
    "    labels = np.asarray(model.wv.index_to_key )  \n",
    "\n",
    "    tsne = TSNE(n_components=num_dimensions, random_state=0, n_jobs= -1)\n",
    "    vectors = tsne.fit_transform(vectors)\n",
    "\n",
    "    x_vals = [v[0] for v in vectors]\n",
    "    y_vals = [v[1] for v in vectors]\n",
    "    return x_vals, y_vals, labels"
   ]
  },
  {
   "cell_type": "code",
   "execution_count": 19,
   "metadata": {
    "id": "NCCXtDpcugmd"
   },
   "outputs": [
    {
     "data": {
      "application/vnd.plotly.v1+json": {
       "config": {
        "plotlyServerURL": "https://plot.ly"
       },
       "data": [
        {
         "hovertemplate": "x=%{x}<br>y=%{y}<br>text=%{text}<extra></extra>",
         "legendgroup": "",
         "marker": {
          "color": "#636efa",
          "symbol": "circle"
         },
         "mode": "markers+text",
         "name": "",
         "orientation": "v",
         "showlegend": false,
         "text": [
          "the",
          "of",
          "and",
          "to",
          "in",
          "is",
          "a",
          "he",
          "be",
          "that",
          "which",
          "not",
          "or",
          "are",
          "they",
          "i",
          "as",
          "will",
          "but",
          "by",
          "have",
          "you",
          "his",
          "we",
          "for",
          "them",
          "with",
          "said",
          "their",
          "this",
          "who",
          "one",
          "at",
          "all",
          "there",
          "has",
          "from",
          "may",
          "state",
          "if",
          "what",
          "sidenote",
          "when",
          "good",
          "other",
          "no",
          "an",
          "then",
          "him",
          "any",
          "only",
          "man",
          "was",
          "more",
          "on",
          "would",
          "do",
          "true",
          "'",
          "e",
          "must",
          "our",
          "than",
          "like",
          "cp",
          "men",
          "been",
          "into",
          "should",
          "can",
          "were",
          "it",
          "such",
          "life",
          "yes",
          "soul",
          "us",
          "3",
          "own",
          "so",
          "also",
          "say",
          "justice",
          "first",
          "now",
          "another",
          "same",
          "nature",
          "some",
          "these",
          "ib",
          "about",
          "d",
          "plato",
          "very",
          "b",
          "knowledge",
          "had",
          "c",
          "5",
          "just",
          "many",
          "being",
          "2",
          "laws",
          "how",
          "most",
          "well",
          "truth",
          "great",
          "4",
          "things",
          "7",
          "two",
          "world",
          "replied",
          "6",
          "1",
          "out",
          "shall",
          "whether",
          "evil",
          "let",
          "those",
          "see",
          "certainly",
          "himself",
          "socrates",
          "mind",
          "up",
          "way",
          "10",
          "make",
          "time",
          "8",
          "me",
          "reason",
          "my",
          "greek",
          "her",
          "both",
          "education",
          "foll",
          "art",
          "know",
          "philosophy",
          "right",
          "cannot",
          "human",
          "made",
          "never",
          "upon",
          "nor",
          "because",
          "either",
          "best",
          "every",
          "yet",
          "mean",
          "whole",
          "far",
          "better",
          "your",
          "nothing",
          "virtue",
          "therefore",
          "part",
          "too",
          "order",
          "having",
          "after",
          "under",
          "does",
          "republic",
          "use",
          "body",
          "take",
          "others",
          "opinion",
          "9",
          "children",
          "power",
          "question",
          "injustice",
          "number",
          "even",
          "city",
          "pleasure",
          "god",
          "think",
          "still",
          "again",
          "unjust",
          "glaucon",
          "whom",
          "idea",
          "principle",
          "sort",
          "words",
          "citizens"
         ],
         "type": "scatter",
         "x": [
          5.456790924072266,
          9.588990211486816,
          -6.476136207580566,
          -27.480621337890625,
          5.630629539489746,
          -11.110812187194824,
          2.6902999877929688,
          -27.496374130249023,
          -32.49702835083008,
          -27.260515213012695,
          -34.2271728515625,
          -26.16888999938965,
          2.8069605827331543,
          -23.745882034301758,
          -22.407920837402344,
          -29.245487213134766,
          -20.54181671142578,
          -23.39346694946289,
          -28.14866065979004,
          -27.46025848388672,
          -37.9162712097168,
          -30.137758255004883,
          29.26927947998047,
          -24.572357177734375,
          -20.51026153564453,
          -8.955233573913574,
          -16.389266967773438,
          -33.52205276489258,
          5.956373691558838,
          -20.032262802124023,
          -28.99724006652832,
          -14.295742988586426,
          21.956727981567383,
          7.993977069854736,
          -19.059326171875,
          -10.391491889953613,
          -3.7510123252868652,
          -40.36119079589844,
          15.508711814880371,
          -25.668468475341797,
          -31.904102325439453,
          -9.033801078796387,
          -16.06878089904785,
          -7.2021379470825195,
          -11.301513671875,
          2.793903350830078,
          7.439044952392578,
          -25.29665756225586,
          -16.270240783691406,
          -7.216747760772705,
          -18.69704246520996,
          -9.16556453704834,
          -14.064592361450195,
          -4.4404754638671875,
          -3.073134183883667,
          -28.78714942932129,
          -28.149457931518555,
          -26.52907943725586,
          31.795259475708008,
          53.350582122802734,
          -35.77473831176758,
          25.9462833404541,
          -2.68815541267395,
          -1.6074641942977905,
          51.09864044189453,
          -3.9249982833862305,
          -43.42361068725586,
          1.897379994392395,
          -30.0297794342041,
          -14.723103523254395,
          -15.09850025177002,
          -30.611814498901367,
          -7.745602130889893,
          13.444095611572266,
          -27.476627349853516,
          23.380535125732422,
          -16.883798599243164,
          42.08407211303711,
          9.999698638916016,
          -22.168109893798828,
          -29.638729095458984,
          -33.5838623046875,
          0.5149609446525574,
          -20.74822425842285,
          -24.624916076660156,
          -6.507917404174805,
          -3.568263530731201,
          12.649602890014648,
          9.86369514465332,
          13.513952255249023,
          45.20960235595703,
          -19.802995681762695,
          51.725318908691406,
          21.055740356445312,
          -30.95995330810547,
          52.38581848144531,
          13.357398986816406,
          -44.534664154052734,
          49.364418029785156,
          54.18324661254883,
          -41.95979690551758,
          8.744024276733398,
          14.398580551147461,
          39.144466400146484,
          44.636966705322266,
          -22.874597549438477,
          -2.4623749256134033,
          -22.364538192749023,
          -12.89433765411377,
          -13.769819259643555,
          49.30940628051758,
          10.420440673828125,
          52.066978454589844,
          15.633711814880371,
          8.51594352722168,
          -33.51334762573242,
          57.74246597290039,
          40.79248809814453,
          -11.815746307373047,
          -36.738399505615234,
          -23.893863677978516,
          -10.47036075592041,
          -35.91150665283203,
          -22.48041343688965,
          -34.860843658447266,
          -27.22895050048828,
          -16.73926544189453,
          34.91423416137695,
          3.8479366302490234,
          -8.786428451538086,
          -17.122676849365234,
          42.146453857421875,
          -27.755130767822266,
          9.639113426208496,
          49.30777359008789,
          -29.69132423400879,
          -30.400415420532227,
          32.76203536987305,
          56.01590347290039,
          -14.639113426208496,
          9.07973575592041,
          16.625953674316406,
          50.86186981201172,
          16.53455924987793,
          -36.858482360839844,
          11.27847957611084,
          -24.2611026763916,
          -28.713088989257812,
          9.592475891113281,
          -43.65188980102539,
          -44.903663635253906,
          -4.370161533355713,
          -11.77386474609375,
          -14.87897777557373,
          -7.746100902557373,
          2.3011574745178223,
          -14.672322273254395,
          -24.913740158081055,
          -31.43147850036621,
          3.834177255630493,
          -23.830799102783203,
          -6.255104064941406,
          -29.445667266845703,
          -26.70477294921875,
          15.341832160949707,
          -26.543689727783203,
          -1.4049859046936035,
          -21.547378540039062,
          -4.312548637390137,
          -8.511730194091797,
          -1.181687355041504,
          -0.5127557516098022,
          -13.559514999389648,
          34.49240493774414,
          16.41933250427246,
          4.140954494476318,
          -23.041234970092773,
          -27.20025634765625,
          5.761399745941162,
          44.20146560668945,
          2.796206474304199,
          4.334090709686279,
          -35.13170623779297,
          5.541464805603027,
          13.109058380126953,
          -16.48753547668457,
          3.6185595989227295,
          12.504243850708008,
          17.020835876464844,
          -34.9142951965332,
          -24.02594757080078,
          -2.0684337615966797,
          -5.314026355743408,
          35.59518051147461,
          -17.257734298706055,
          9.005020141601562,
          -1.5439456701278687,
          6.291616439819336,
          4.144669532775879,
          -19.190044403076172
         ],
         "xaxis": "x",
         "y": [
          -11.138921737670898,
          -2.6848859786987305,
          -4.509239673614502,
          -8.726123809814453,
          -5.13029146194458,
          -15.273831367492676,
          -27.271757125854492,
          -21.7873477935791,
          1.6481521129608154,
          -22.261199951171875,
          22.995582580566406,
          -12.35571575164795,
          -3.0207202434539795,
          24.152395248413086,
          -10.265006065368652,
          -21.092426300048828,
          -10.01249885559082,
          -10.285223007202148,
          -17.527820587158203,
          20.625041961669922,
          -2.2610924243927,
          -18.491256713867188,
          10.562651634216309,
          -12.488632202148438,
          -17.911081314086914,
          16.08062744140625,
          -24.970619201660156,
          -23.251020431518555,
          23.583980560302734,
          -27.420574188232422,
          -1.837492823600769,
          -17.255382537841797,
          -21.23785972595215,
          16.561294555664062,
          -16.867149353027344,
          -18.659048080444336,
          29.95687484741211,
          -3.898818254470825,
          -10.33835220336914,
          -7.625182151794434,
          -15.649870872497559,
          -31.12680435180664,
          -6.510950565338135,
          -25.702911376953125,
          1.4925142526626587,
          -19.378889083862305,
          -7.452916145324707,
          -11.488306045532227,
          3.9292187690734863,
          -21.308826446533203,
          -2.4538815021514893,
          -9.240606307983398,
          -13.079741477966309,
          -23.26483154296875,
          -34.67047119140625,
          -14.137540817260742,
          -15.254409790039062,
          -23.683218002319336,
          14.062261581420898,
          -1.169158935546875,
          -1.9900368452072144,
          -14.313131332397461,
          -23.995622634887695,
          -7.856744289398193,
          -1.0558608770370483,
          -9.745186805725098,
          1.4855670928955078,
          -10.177740097045898,
          -14.268404960632324,
          -22.347549438476562,
          -12.617630004882812,
          -0.7963070869445801,
          -17.869441986083984,
          -13.807002067565918,
          -23.079954147338867,
          7.617076873779297,
          2.9397010803222656,
          -9.333770751953125,
          -16.895132064819336,
          -8.185015678405762,
          20.8852481842041,
          -15.740275382995605,
          -15.526205062866211,
          -16.143136978149414,
          -9.346059799194336,
          -20.681840896606445,
          -31.04713249206543,
          -13.373865127563477,
          17.654142379760742,
          15.176507949829102,
          -4.398124694824219,
          -29.740564346313477,
          -0.31407153606414795,
          -8.965631484985352,
          -24.32320213317871,
          0.3058950901031494,
          6.990823745727539,
          1.617470622062683,
          -1.5543164014816284,
          8.697151184082031,
          -0.7249609231948853,
          17.514442443847656,
          26.264759063720703,
          -3.95849347114563,
          -1.8160400390625,
          -8.00621223449707,
          -21.534046173095703,
          -17.766393661499023,
          -29.85198974609375,
          -18.583011627197266,
          -7.097931861877441,
          13.878403663635254,
          2.076444625854492,
          18.68756675720215,
          -8.897010803222656,
          -23.25414276123047,
          2.9949231147766113,
          1.0579745769500732,
          -35.27735900878906,
          -7.816422462463379,
          -8.687594413757324,
          -25.03162384033203,
          -8.886959075927734,
          25.38857078552246,
          -15.555767059326172,
          -24.537961959838867,
          -11.690389633178711,
          15.683280944824219,
          -12.166823387145996,
          -35.137691497802734,
          -20.852888107299805,
          8.18429183959961,
          -4.747835159301758,
          -24.912546157836914,
          12.096354484558105,
          -21.3381404876709,
          23.134422302246094,
          13.386119842529297,
          -5.95355224609375,
          1.151374101638794,
          16.64546012878418,
          1.3318262100219727,
          -2.2323930263519287,
          -20.669748306274414,
          -15.59023380279541,
          -3.224339485168457,
          -21.003419876098633,
          -13.73028564453125,
          -9.591629981994629,
          4.254867076873779,
          0.8924040794372559,
          -34.83747100830078,
          -9.878551483154297,
          -7.276028633117676,
          -21.293806076049805,
          -14.748520851135254,
          -1.6120525598526,
          -28.90441131591797,
          -15.522174835205078,
          -6.955874443054199,
          -21.399906158447266,
          -22.8647403717041,
          -29.61088752746582,
          2.7741641998291016,
          3.445082664489746,
          -10.297616958618164,
          3.4209091663360596,
          -6.802365779876709,
          5.726232528686523,
          12.531085968017578,
          28.31437110900879,
          -32.67592239379883,
          -24.711742401123047,
          -12.365607261657715,
          -32.144554138183594,
          -9.186717987060547,
          2.5073115825653076,
          -8.446504592895508,
          1.2484794855117798,
          11.166033744812012,
          17.85884666442871,
          0.26701775193214417,
          -21.28065299987793,
          25.733795166015625,
          -12.530464172363281,
          -1.9768961668014526,
          -29.506807327270508,
          34.211029052734375,
          26.693918228149414,
          -16.2535343170166,
          -24.767728805541992,
          -9.884203910827637,
          -21.36589813232422,
          14.084208488464355,
          -6.329562187194824,
          -14.608404159545898,
          20.749536514282227,
          5.429408550262451,
          -33.35166549682617,
          26.003324508666992
         ],
         "yaxis": "y"
        }
       ],
       "layout": {
        "legend": {
         "tracegroupgap": 0
        },
        "margin": {
         "t": 60
        },
        "template": {
         "data": {
          "bar": [
           {
            "error_x": {
             "color": "#2a3f5f"
            },
            "error_y": {
             "color": "#2a3f5f"
            },
            "marker": {
             "line": {
              "color": "#E5ECF6",
              "width": 0.5
             },
             "pattern": {
              "fillmode": "overlay",
              "size": 10,
              "solidity": 0.2
             }
            },
            "type": "bar"
           }
          ],
          "barpolar": [
           {
            "marker": {
             "line": {
              "color": "#E5ECF6",
              "width": 0.5
             },
             "pattern": {
              "fillmode": "overlay",
              "size": 10,
              "solidity": 0.2
             }
            },
            "type": "barpolar"
           }
          ],
          "carpet": [
           {
            "aaxis": {
             "endlinecolor": "#2a3f5f",
             "gridcolor": "white",
             "linecolor": "white",
             "minorgridcolor": "white",
             "startlinecolor": "#2a3f5f"
            },
            "baxis": {
             "endlinecolor": "#2a3f5f",
             "gridcolor": "white",
             "linecolor": "white",
             "minorgridcolor": "white",
             "startlinecolor": "#2a3f5f"
            },
            "type": "carpet"
           }
          ],
          "choropleth": [
           {
            "colorbar": {
             "outlinewidth": 0,
             "ticks": ""
            },
            "type": "choropleth"
           }
          ],
          "contour": [
           {
            "colorbar": {
             "outlinewidth": 0,
             "ticks": ""
            },
            "colorscale": [
             [
              0,
              "#0d0887"
             ],
             [
              0.1111111111111111,
              "#46039f"
             ],
             [
              0.2222222222222222,
              "#7201a8"
             ],
             [
              0.3333333333333333,
              "#9c179e"
             ],
             [
              0.4444444444444444,
              "#bd3786"
             ],
             [
              0.5555555555555556,
              "#d8576b"
             ],
             [
              0.6666666666666666,
              "#ed7953"
             ],
             [
              0.7777777777777778,
              "#fb9f3a"
             ],
             [
              0.8888888888888888,
              "#fdca26"
             ],
             [
              1,
              "#f0f921"
             ]
            ],
            "type": "contour"
           }
          ],
          "contourcarpet": [
           {
            "colorbar": {
             "outlinewidth": 0,
             "ticks": ""
            },
            "type": "contourcarpet"
           }
          ],
          "heatmap": [
           {
            "colorbar": {
             "outlinewidth": 0,
             "ticks": ""
            },
            "colorscale": [
             [
              0,
              "#0d0887"
             ],
             [
              0.1111111111111111,
              "#46039f"
             ],
             [
              0.2222222222222222,
              "#7201a8"
             ],
             [
              0.3333333333333333,
              "#9c179e"
             ],
             [
              0.4444444444444444,
              "#bd3786"
             ],
             [
              0.5555555555555556,
              "#d8576b"
             ],
             [
              0.6666666666666666,
              "#ed7953"
             ],
             [
              0.7777777777777778,
              "#fb9f3a"
             ],
             [
              0.8888888888888888,
              "#fdca26"
             ],
             [
              1,
              "#f0f921"
             ]
            ],
            "type": "heatmap"
           }
          ],
          "heatmapgl": [
           {
            "colorbar": {
             "outlinewidth": 0,
             "ticks": ""
            },
            "colorscale": [
             [
              0,
              "#0d0887"
             ],
             [
              0.1111111111111111,
              "#46039f"
             ],
             [
              0.2222222222222222,
              "#7201a8"
             ],
             [
              0.3333333333333333,
              "#9c179e"
             ],
             [
              0.4444444444444444,
              "#bd3786"
             ],
             [
              0.5555555555555556,
              "#d8576b"
             ],
             [
              0.6666666666666666,
              "#ed7953"
             ],
             [
              0.7777777777777778,
              "#fb9f3a"
             ],
             [
              0.8888888888888888,
              "#fdca26"
             ],
             [
              1,
              "#f0f921"
             ]
            ],
            "type": "heatmapgl"
           }
          ],
          "histogram": [
           {
            "marker": {
             "pattern": {
              "fillmode": "overlay",
              "size": 10,
              "solidity": 0.2
             }
            },
            "type": "histogram"
           }
          ],
          "histogram2d": [
           {
            "colorbar": {
             "outlinewidth": 0,
             "ticks": ""
            },
            "colorscale": [
             [
              0,
              "#0d0887"
             ],
             [
              0.1111111111111111,
              "#46039f"
             ],
             [
              0.2222222222222222,
              "#7201a8"
             ],
             [
              0.3333333333333333,
              "#9c179e"
             ],
             [
              0.4444444444444444,
              "#bd3786"
             ],
             [
              0.5555555555555556,
              "#d8576b"
             ],
             [
              0.6666666666666666,
              "#ed7953"
             ],
             [
              0.7777777777777778,
              "#fb9f3a"
             ],
             [
              0.8888888888888888,
              "#fdca26"
             ],
             [
              1,
              "#f0f921"
             ]
            ],
            "type": "histogram2d"
           }
          ],
          "histogram2dcontour": [
           {
            "colorbar": {
             "outlinewidth": 0,
             "ticks": ""
            },
            "colorscale": [
             [
              0,
              "#0d0887"
             ],
             [
              0.1111111111111111,
              "#46039f"
             ],
             [
              0.2222222222222222,
              "#7201a8"
             ],
             [
              0.3333333333333333,
              "#9c179e"
             ],
             [
              0.4444444444444444,
              "#bd3786"
             ],
             [
              0.5555555555555556,
              "#d8576b"
             ],
             [
              0.6666666666666666,
              "#ed7953"
             ],
             [
              0.7777777777777778,
              "#fb9f3a"
             ],
             [
              0.8888888888888888,
              "#fdca26"
             ],
             [
              1,
              "#f0f921"
             ]
            ],
            "type": "histogram2dcontour"
           }
          ],
          "mesh3d": [
           {
            "colorbar": {
             "outlinewidth": 0,
             "ticks": ""
            },
            "type": "mesh3d"
           }
          ],
          "parcoords": [
           {
            "line": {
             "colorbar": {
              "outlinewidth": 0,
              "ticks": ""
             }
            },
            "type": "parcoords"
           }
          ],
          "pie": [
           {
            "automargin": true,
            "type": "pie"
           }
          ],
          "scatter": [
           {
            "fillpattern": {
             "fillmode": "overlay",
             "size": 10,
             "solidity": 0.2
            },
            "type": "scatter"
           }
          ],
          "scatter3d": [
           {
            "line": {
             "colorbar": {
              "outlinewidth": 0,
              "ticks": ""
             }
            },
            "marker": {
             "colorbar": {
              "outlinewidth": 0,
              "ticks": ""
             }
            },
            "type": "scatter3d"
           }
          ],
          "scattercarpet": [
           {
            "marker": {
             "colorbar": {
              "outlinewidth": 0,
              "ticks": ""
             }
            },
            "type": "scattercarpet"
           }
          ],
          "scattergeo": [
           {
            "marker": {
             "colorbar": {
              "outlinewidth": 0,
              "ticks": ""
             }
            },
            "type": "scattergeo"
           }
          ],
          "scattergl": [
           {
            "marker": {
             "colorbar": {
              "outlinewidth": 0,
              "ticks": ""
             }
            },
            "type": "scattergl"
           }
          ],
          "scattermapbox": [
           {
            "marker": {
             "colorbar": {
              "outlinewidth": 0,
              "ticks": ""
             }
            },
            "type": "scattermapbox"
           }
          ],
          "scatterpolar": [
           {
            "marker": {
             "colorbar": {
              "outlinewidth": 0,
              "ticks": ""
             }
            },
            "type": "scatterpolar"
           }
          ],
          "scatterpolargl": [
           {
            "marker": {
             "colorbar": {
              "outlinewidth": 0,
              "ticks": ""
             }
            },
            "type": "scatterpolargl"
           }
          ],
          "scatterternary": [
           {
            "marker": {
             "colorbar": {
              "outlinewidth": 0,
              "ticks": ""
             }
            },
            "type": "scatterternary"
           }
          ],
          "surface": [
           {
            "colorbar": {
             "outlinewidth": 0,
             "ticks": ""
            },
            "colorscale": [
             [
              0,
              "#0d0887"
             ],
             [
              0.1111111111111111,
              "#46039f"
             ],
             [
              0.2222222222222222,
              "#7201a8"
             ],
             [
              0.3333333333333333,
              "#9c179e"
             ],
             [
              0.4444444444444444,
              "#bd3786"
             ],
             [
              0.5555555555555556,
              "#d8576b"
             ],
             [
              0.6666666666666666,
              "#ed7953"
             ],
             [
              0.7777777777777778,
              "#fb9f3a"
             ],
             [
              0.8888888888888888,
              "#fdca26"
             ],
             [
              1,
              "#f0f921"
             ]
            ],
            "type": "surface"
           }
          ],
          "table": [
           {
            "cells": {
             "fill": {
              "color": "#EBF0F8"
             },
             "line": {
              "color": "white"
             }
            },
            "header": {
             "fill": {
              "color": "#C8D4E3"
             },
             "line": {
              "color": "white"
             }
            },
            "type": "table"
           }
          ]
         },
         "layout": {
          "annotationdefaults": {
           "arrowcolor": "#2a3f5f",
           "arrowhead": 0,
           "arrowwidth": 1
          },
          "autotypenumbers": "strict",
          "coloraxis": {
           "colorbar": {
            "outlinewidth": 0,
            "ticks": ""
           }
          },
          "colorscale": {
           "diverging": [
            [
             0,
             "#8e0152"
            ],
            [
             0.1,
             "#c51b7d"
            ],
            [
             0.2,
             "#de77ae"
            ],
            [
             0.3,
             "#f1b6da"
            ],
            [
             0.4,
             "#fde0ef"
            ],
            [
             0.5,
             "#f7f7f7"
            ],
            [
             0.6,
             "#e6f5d0"
            ],
            [
             0.7,
             "#b8e186"
            ],
            [
             0.8,
             "#7fbc41"
            ],
            [
             0.9,
             "#4d9221"
            ],
            [
             1,
             "#276419"
            ]
           ],
           "sequential": [
            [
             0,
             "#0d0887"
            ],
            [
             0.1111111111111111,
             "#46039f"
            ],
            [
             0.2222222222222222,
             "#7201a8"
            ],
            [
             0.3333333333333333,
             "#9c179e"
            ],
            [
             0.4444444444444444,
             "#bd3786"
            ],
            [
             0.5555555555555556,
             "#d8576b"
            ],
            [
             0.6666666666666666,
             "#ed7953"
            ],
            [
             0.7777777777777778,
             "#fb9f3a"
            ],
            [
             0.8888888888888888,
             "#fdca26"
            ],
            [
             1,
             "#f0f921"
            ]
           ],
           "sequentialminus": [
            [
             0,
             "#0d0887"
            ],
            [
             0.1111111111111111,
             "#46039f"
            ],
            [
             0.2222222222222222,
             "#7201a8"
            ],
            [
             0.3333333333333333,
             "#9c179e"
            ],
            [
             0.4444444444444444,
             "#bd3786"
            ],
            [
             0.5555555555555556,
             "#d8576b"
            ],
            [
             0.6666666666666666,
             "#ed7953"
            ],
            [
             0.7777777777777778,
             "#fb9f3a"
            ],
            [
             0.8888888888888888,
             "#fdca26"
            ],
            [
             1,
             "#f0f921"
            ]
           ]
          },
          "colorway": [
           "#636efa",
           "#EF553B",
           "#00cc96",
           "#ab63fa",
           "#FFA15A",
           "#19d3f3",
           "#FF6692",
           "#B6E880",
           "#FF97FF",
           "#FECB52"
          ],
          "font": {
           "color": "#2a3f5f"
          },
          "geo": {
           "bgcolor": "white",
           "lakecolor": "white",
           "landcolor": "#E5ECF6",
           "showlakes": true,
           "showland": true,
           "subunitcolor": "white"
          },
          "hoverlabel": {
           "align": "left"
          },
          "hovermode": "closest",
          "mapbox": {
           "style": "light"
          },
          "paper_bgcolor": "white",
          "plot_bgcolor": "#E5ECF6",
          "polar": {
           "angularaxis": {
            "gridcolor": "white",
            "linecolor": "white",
            "ticks": ""
           },
           "bgcolor": "#E5ECF6",
           "radialaxis": {
            "gridcolor": "white",
            "linecolor": "white",
            "ticks": ""
           }
          },
          "scene": {
           "xaxis": {
            "backgroundcolor": "#E5ECF6",
            "gridcolor": "white",
            "gridwidth": 2,
            "linecolor": "white",
            "showbackground": true,
            "ticks": "",
            "zerolinecolor": "white"
           },
           "yaxis": {
            "backgroundcolor": "#E5ECF6",
            "gridcolor": "white",
            "gridwidth": 2,
            "linecolor": "white",
            "showbackground": true,
            "ticks": "",
            "zerolinecolor": "white"
           },
           "zaxis": {
            "backgroundcolor": "#E5ECF6",
            "gridcolor": "white",
            "gridwidth": 2,
            "linecolor": "white",
            "showbackground": true,
            "ticks": "",
            "zerolinecolor": "white"
           }
          },
          "shapedefaults": {
           "line": {
            "color": "#2a3f5f"
           }
          },
          "ternary": {
           "aaxis": {
            "gridcolor": "white",
            "linecolor": "white",
            "ticks": ""
           },
           "baxis": {
            "gridcolor": "white",
            "linecolor": "white",
            "ticks": ""
           },
           "bgcolor": "#E5ECF6",
           "caxis": {
            "gridcolor": "white",
            "linecolor": "white",
            "ticks": ""
           }
          },
          "title": {
           "x": 0.05
          },
          "xaxis": {
           "automargin": true,
           "gridcolor": "white",
           "linecolor": "white",
           "ticks": "",
           "title": {
            "standoff": 15
           },
           "zerolinecolor": "white",
           "zerolinewidth": 2
          },
          "yaxis": {
           "automargin": true,
           "gridcolor": "white",
           "linecolor": "white",
           "ticks": "",
           "title": {
            "standoff": 15
           },
           "zerolinecolor": "white",
           "zerolinewidth": 2
          }
         }
        },
        "xaxis": {
         "anchor": "y",
         "domain": [
          0,
          1
         ],
         "title": {
          "text": "x"
         }
        },
        "yaxis": {
         "anchor": "x",
         "domain": [
          0,
          1
         ],
         "title": {
          "text": "y"
         }
        }
       }
      }
     },
     "metadata": {},
     "output_type": "display_data"
    }
   ],
   "source": [
    "# Graficar los embedddings en 2D\n",
    "import plotly.graph_objects as go\n",
    "import plotly.express as px\n",
    "\n",
    "x_vals, y_vals, labels = reduce_dimensions(w2v_model)\n",
    "\n",
    "MAX_WORDS=200\n",
    "fig = px.scatter(x=x_vals[:MAX_WORDS], y=y_vals[:MAX_WORDS], text=labels[:MAX_WORDS])\n",
    "fig.show() # esto para plotly en colab"
   ]
  },
  {
   "cell_type": "markdown",
   "metadata": {
    "id": "yMM_SHSaZ9N-"
   },
   "source": [
    "### Alumno"
   ]
  },
  {
   "cell_type": "markdown",
   "metadata": {
    "id": "WivQZ3ZCZ9N_"
   },
   "source": [
    "- Crear sus propios vectores con Gensim basado en lo visto en clase con otro dataset.\n",
    "- Probar términos de interés y explicar similitudes en el espacio de embeddings (sacar conclusiones entre palabras similitudes y diferencias).\n",
    "- Graficarlos.\n",
    "- Obtener conclusiones."
   ]
  },
  {
   "cell_type": "markdown",
   "metadata": {},
   "source": [
    "# Cambios realizados\n",
    "\n",
    "- Se utilizo el libro de la republica de platon como dataset, extraido de gutenberg project.\n",
    "- Se incremento el numero de la dimension de embeddings, al hacer este ajuste, el loss disminuye considerablemente. \n",
    "- Se probaron terminos de interes como, republic, achilles, etc, y se encontraron las palabras con mayor similitud.\n",
    "\n",
    "# Conclusiones\n",
    "\n",
    "- La dimension de los embeddings, cambian considerablemente el loss de entrenamiento.\n",
    "- Al buscar las palabras similares a \"achilles\" se encontro que los embeddings mapearon a otros personajes de la historia.\n"
   ]
  },
  {
   "cell_type": "markdown",
   "metadata": {},
   "source": []
  }
 ],
 "metadata": {
  "colab": {
   "collapsed_sections": [],
   "provenance": []
  },
  "kernelspec": {
   "display_name": "Python 3 (ipykernel)",
   "language": "python",
   "name": "python3"
  },
  "language_info": {
   "codemirror_mode": {
    "name": "ipython",
    "version": 3
   },
   "file_extension": ".py",
   "mimetype": "text/x-python",
   "name": "python",
   "nbconvert_exporter": "python",
   "pygments_lexer": "ipython3",
   "version": "3.10.0"
  }
 },
 "nbformat": 4,
 "nbformat_minor": 4
}
