{
 "cells": [
  {
   "attachments": {},
   "cell_type": "markdown",
   "metadata": {
    "id": "NV8wZ0MTKjv_"
   },
   "source": [
    "<img src=\"https://github.com/hernancontigiani/ceia_memorias_especializacion/raw/master/Figures/logoFIUBA.jpg\" width=\"500\" align=\"center\">\n",
    "\n",
    "\n",
    "# Procesamiento de lenguaje natural\n",
    "## Bot de consulta abierta y respuestas predeterminadas con DNN + Spacy"
   ]
  },
  {
   "attachments": {},
   "cell_type": "markdown",
   "metadata": {
    "id": "Z_9z3H-yKrcK"
   },
   "source": [
    "#### Datos\n",
    "Este ejemplo se inspiró en otro Bot en inglés creado con NLTK, lo tienen como referencia para hacer lo mismo en inglés:\\\n",
    "[LINK](https://towardsdatascience.com/a-simple-chatbot-in-python-with-deep-learning-3e8669997758)"
   ]
  },
  {
   "attachments": {},
   "cell_type": "markdown",
   "metadata": {
    "id": "oCVZakCzAjGN"
   },
   "source": [
    "### 1 - Instalar dependencias\n",
    "Para poder utilizar Spacy en castellano es necesario agregar la librería \"spacy-stanza\" para lematizar palabras en español."
   ]
  },
  {
   "cell_type": "code",
   "execution_count": null,
   "metadata": {
    "id": "Zd8NLa4gsSmT"
   },
   "outputs": [
    {
     "ename": "",
     "evalue": "",
     "output_type": "error",
     "traceback": [
      "\u001b[1;31mCannot execute code, session has been disposed. Please try restarting the Kernel."
     ]
    },
    {
     "ename": "",
     "evalue": "",
     "output_type": "error",
     "traceback": [
      "\u001b[1;31mThe Kernel crashed while executing code in the the current cell or a previous cell. Please review the code in the cell(s) to identify a possible cause of the failure. Click <a href='https://aka.ms/vscodeJupyterKernelCrash'>here</a> for more info. View Jupyter <a href='command:jupyter.viewOutput'>log</a> for further details."
     ]
    }
   ],
   "source": [
    "# La última versión de spacy-stanza (>1.0) es compatible solo con spacy >=3.0\n",
    "# Nota: spacy 3.0 incorpora al pipeline NLP transformers\n",
    "!pip install -U spacy==3.1 --quiet\n",
    "!pip install -U spacy-stanza==1.0.0 --quiet"
   ]
  },
  {
   "cell_type": "code",
   "execution_count": 1,
   "metadata": {
    "id": "kzao7XO9NJAq"
   },
   "outputs": [],
   "source": [
    "import json\n",
    "import string\n",
    "import random \n",
    "import numpy as np\n",
    "\n",
    "import tensorflow as tf \n",
    "from tensorflow.keras import Sequential \n",
    "from tensorflow.keras.layers import Dense, Dropout"
   ]
  },
  {
   "cell_type": "code",
   "execution_count": 2,
   "metadata": {
    "id": "Z_ExOb8uvjqK"
   },
   "outputs": [
    {
     "name": "stderr",
     "output_type": "stream",
     "text": [
      "c:\\Users\\a\\Documents\\UBA\\procesamiento_lenguaje_natural\\venv\\lib\\site-packages\\tqdm\\auto.py:21: TqdmWarning: IProgress not found. Please update jupyter and ipywidgets. See https://ipywidgets.readthedocs.io/en/stable/user_install.html\n",
      "  from .autonotebook import tqdm as notebook_tqdm\n",
      "Downloading https://raw.githubusercontent.com/stanfordnlp/stanza-resources/main/resources_1.2.2.json: 140kB [00:00, 17.6MB/s]                    \n",
      "2023-07-22 18:49:39 INFO: Downloading default packages for language: es (Spanish)...\n",
      "2023-07-22 18:49:41 INFO: File exists: C:\\Users\\a\\stanza_resources\\es\\default.zip.\n",
      "2023-07-22 18:49:48 INFO: Finished downloading models and saved to C:\\Users\\a\\stanza_resources.\n",
      "2023-07-22 18:49:48 INFO: Loading these models for language: es (Spanish):\n",
      "=======================\n",
      "| Processor | Package |\n",
      "-----------------------\n",
      "| tokenize  | ancora  |\n",
      "| mwt       | ancora  |\n",
      "| pos       | ancora  |\n",
      "| lemma     | ancora  |\n",
      "| depparse  | ancora  |\n",
      "| ner       | conll02 |\n",
      "=======================\n",
      "\n",
      "2023-07-22 18:49:48 INFO: Use device: cpu\n",
      "2023-07-22 18:49:48 INFO: Loading: tokenize\n",
      "2023-07-22 18:49:48 INFO: Loading: mwt\n",
      "2023-07-22 18:49:48 INFO: Loading: pos\n",
      "2023-07-22 18:49:48 INFO: Loading: lemma\n",
      "2023-07-22 18:49:48 INFO: Loading: depparse\n",
      "2023-07-22 18:49:49 INFO: Loading: ner\n",
      "2023-07-22 18:49:51 INFO: Done loading processors!\n"
     ]
    }
   ],
   "source": [
    "import stanza\n",
    "import spacy_stanza\n",
    "\n",
    "# Vamos a usar SpaCy-Stanza. Stanza es una librería de NLP de Stanford\n",
    "# SpaCy armó un wrapper para los pipelines y modelos de Stanza\n",
    "# https://stanfordnlp.github.io/stanza/\n",
    "\n",
    "# Descargar el diccionario en español y armar el pipeline de NLP con spacy\n",
    "stanza.download(\"es\")\n",
    "nlp = spacy_stanza.load_pipeline(\"es\")"
   ]
  },
  {
   "attachments": {},
   "cell_type": "markdown",
   "metadata": {
    "id": "_wF10RjVMBdV"
   },
   "source": [
    "### 2 - Herramientas de preprocesamiento de datos\n",
    "Entre las tareas de procesamiento de texto en español se implementa:\n",
    "- Quitar acentos y caracteres especiales\n",
    "- Quitar números\n",
    "- Quitar símbolos de puntuación"
   ]
  },
  {
   "cell_type": "code",
   "execution_count": 3,
   "metadata": {
    "id": "ZxoD2hEExmuX"
   },
   "outputs": [],
   "source": [
    "import re\n",
    "import unicodedata\n",
    "\n",
    "# El preprocesamento en castellano requiere más trabajo\n",
    "\n",
    "# Referencia de regex:\n",
    "# https://docs.python.org/3/library/re.html\n",
    "\n",
    "def preprocess_clean_text(text):    \n",
    "    # sacar tildes de las palabras:\n",
    "    text = unicodedata.normalize('NFKD', text).encode('ascii', 'ignore').decode('utf-8', 'ignore')\n",
    "    # quitar caracteres especiales\n",
    "    pattern = r'[^a-zA-z0-9.,!?/:;\\\"\\'\\s]' # [^ : ningún caracter de todos estos\n",
    "    # (termina eliminando cualquier caracter distinto de los del regex)\n",
    "    text = re.sub(pattern, '', text)\n",
    "    pattern = r'[^a-zA-z.,!?/:;\\\"\\'\\s]' # igual al anterior pero sin cifras numéricas\n",
    "    # quitar números\n",
    "    text = re.sub(pattern, '', text)\n",
    "    # quitar caracteres de puntuación\n",
    "    text = ''.join([c for c in text if c not in string.punctuation])\n",
    "\n",
    "    doc = nlp(text)\n",
    "    # quitando stopwords\n",
    "    text = [t.text for t in doc if not t.is_stop]\n",
    "\n",
    "    text = ' '.join(text)\n",
    "    return text"
   ]
  },
  {
   "cell_type": "code",
   "execution_count": 4,
   "metadata": {
    "id": "q-MiMZjh5fu2"
   },
   "outputs": [
    {
     "data": {
      "text/plain": [
       "'personas ideas cosas peces murcielagos'"
      ]
     },
     "execution_count": 4,
     "metadata": {},
     "output_type": "execute_result"
    }
   ],
   "source": [
    "text = \"personas Ideas! estás cosas y los peces y los murciélagos\"\n",
    "\n",
    "# Antes de preprocesar los datos se pasa a minúsculas todo el texto\n",
    "preprocess_clean_text(text.lower())"
   ]
  },
  {
   "cell_type": "code",
   "execution_count": 5,
   "metadata": {
    "id": "I9V-S8JbrtNn"
   },
   "outputs": [
    {
     "name": "stdout",
     "output_type": "stream",
     "text": [
      "tokens: hola personas ideas cosas peces murcielagos\n",
      "Lematización de cada token:\n",
      "[hola, 'holar']\n",
      "[personas, 'persona']\n",
      "[ideas, 'idea']\n",
      "[cosas, 'cosa']\n",
      "[peces, 'pez']\n",
      "[murcielagos, 'murcielago']\n"
     ]
    }
   ],
   "source": [
    "# Ejemplo de como funciona\n",
    "text = \"hola personas Ideas! como estás cosas y los peces y los murciélagos\"\n",
    "\n",
    "# Antes de preprocesar los datos se pasa a minúsculas todo el texto\n",
    "tokens = nlp(preprocess_clean_text(text.lower()))\n",
    "print(\"tokens:\", tokens)\n",
    "print(\"Lematización de cada token:\")\n",
    "for token in tokens:\n",
    "    print([token, token.lemma_])"
   ]
  },
  {
   "attachments": {},
   "cell_type": "markdown",
   "metadata": {
    "id": "ilRbn0KfMm2r"
   },
   "source": [
    "### 3 - Diccionario de entrada"
   ]
  },
  {
   "cell_type": "code",
   "execution_count": 13,
   "metadata": {
    "id": "NgIGpjymNEH7"
   },
   "outputs": [],
   "source": [
    "# Dataset en formato JSON que representa las posibles preguntas (patterns)\n",
    "# y las posibles respuestas por categoría (tag)\n",
    "# Los \"patterns\" van a formar el corpus para entrenar el clasificador que clasifica en tags\n",
    "# \"respones\" son las respuestas predeterminadas posibles para cada tag\n",
    "dataset = {\"intents\": [\n",
    "             {\"tag\": \"bienvenida\",\n",
    "              \"patterns\": [\"Hola\", \"¿Cómo estás?\", \"¿Qué tal?\", \"Saludos\", \"Buenas\", \"Buenas tardes\", \"Buenos dias\", \"Buenas noches\",\n",
    "                           \"Hey\",\"Que onda\", \"Como andas?\"\n",
    "                           ],\n",
    "              \"responses\": [\"Hola!\", \"Hola, ¿Cómo estás?\"],\n",
    "             },\n",
    "             {\"tag\": \"nombre\",\n",
    "              \"patterns\": [\"¿Cúal es tu nombre?\", \"¿Quién sos?\",\"¿Vos sos?\", \"¿Como te llamas?\"],\n",
    "              \"responses\": [\"Mi nombre es TiendaPro\", \"Yo soy TiendaPro\"]\n",
    "             },\n",
    "            {\"tag\": \"contacto\",\n",
    "              \"patterns\": [\"contacto\", \"número de contacto\",\n",
    "                          \"número de teléfono\", \"número de whatsapp\", \"whatsapp\",\n",
    "                          \"pasame el número\",\"dame tu número\", \"¿como te contacto?\"\n",
    "                          ],\n",
    "              \"responses\": [\"Podes contactarnos al siguiente <numero>\", \"Contactos al whatsapp <numero>\"]\n",
    "             },\n",
    "            {\"tag\": \"envios\",\n",
    "              \"patterns\": [\"¿Realizan envios?\",\"¿Hacen envios?\", \"¿Cómo me llega el paquete?\"\n",
    "                           ],\n",
    "              \"responses\": [\"Tenemos diferentes formas de envios según la zona, te recomiendo entrar a este <link>\"]\n",
    "             },\n",
    "            {\"tag\": \"precios\",\n",
    "              \"patterns\": [\"precio\", \"Me podrás pasar los precios\", \"¿Cuánto vale?\", \"¿Cuánto sale?\"],\n",
    "              \"responses\": [\"En el siguiente link podrás encontrar los precios de todos nuestros productos en stock\"]\n",
    "             },\n",
    "            {\"tag\": \"pagos\",\n",
    "              \"patterns\": [\"medios de pago\", \"tarjeta de crédito\", \"tarjetas\", \"cuotas\"],\n",
    "              \"responses\": [\"En el siguiente link podrás encontrar los beneficios y formas de pago vigentes\"]\n",
    "             },\n",
    "            {\"tag\": \"stock\",\n",
    "              \"patterns\": [\"Esto está disponible\", \"¿Tenes stock?\", \"¿Hay stock hoy?\"],\n",
    "              \"responses\": [\"Los productos publicados están en stock\"]\n",
    "             },\n",
    "            {\"tag\": \"agradecimientos\",\n",
    "              \"patterns\": [ \"Muchas gracias\", \"Gracias\", \"Te lo agradezco\"],\n",
    "              \"responses\": [\"Por nada!, cualquier otra consulta podes escribirme\"]\n",
    "             },\n",
    "             {\"tag\": \"despedida\",\n",
    "              \"patterns\": [ \"Chau\", \"Hasta luego!\", \"Nos vemos\", \"Adios\"],\n",
    "              \"responses\": [\"Hasta luego!\", \"Hablamos luego!\"]\n",
    "             }\n",
    "]}"
   ]
  },
  {
   "attachments": {},
   "cell_type": "markdown",
   "metadata": {
    "id": "19PEDmIDfLRu"
   },
   "source": [
    "### 4 - Preprocesamiento y armado del dataset"
   ]
  },
  {
   "cell_type": "code",
   "execution_count": 14,
   "metadata": {
    "id": "b3HP8abHNRk3"
   },
   "outputs": [],
   "source": [
    "# Datos que necesitaremos, las palabras o vocabulario\n",
    "words = []\n",
    "classes = []\n",
    "doc_X = []\n",
    "doc_y = []\n",
    "\n",
    "# Por cada intención (intents) debemos tomar los patrones que la caracterizan\n",
    "# a esa intención y transformarla a tokens para almacenar en doc_X\n",
    "\n",
    "# El tag de cada intención se almacena como doc_Y (la clase a predecir)\n",
    "# En `words` vamos a guardar el vocabulario\n",
    "# En `class` las posibles clases o tags\n",
    "\n",
    "for intent in dataset[\"intents\"]:\n",
    "    for pattern in intent[\"patterns\"]:\n",
    "        # trasformar el patron a tokens\n",
    "        tokens = nlp(preprocess_clean_text(pattern.lower()))\n",
    "        # lematizar los tokens\n",
    "        for token in tokens:            \n",
    "            words.append(token.lemma_)\n",
    "        \n",
    "        doc_X.append(pattern)\n",
    "        doc_y.append(intent[\"tag\"])\n",
    "    \n",
    "    # Agregar el tag a las clases\n",
    "    if intent[\"tag\"] not in classes:\n",
    "        classes.append(intent[\"tag\"])\n",
    "\n",
    "# Elminar duplicados con \"set\" y ordenar el vocubulario y las clases por orden alfabético\n",
    "words = sorted(set(words))\n",
    "classes = sorted(set(classes))"
   ]
  },
  {
   "cell_type": "code",
   "execution_count": 15,
   "metadata": {
    "id": "Acy-gcugNbMH"
   },
   "outputs": [
    {
     "name": "stdout",
     "output_type": "stream",
     "text": [
      "words: ['adios', 'agradecer', 'andar', 'chau', 'contacto', 'credito', 'cuota', 'damar', 'disponible', 'envio', 'gracias', 'hey', 'holar', 'llama', 'llegar', 'medio', 'noche', 'nombre', 'numerar', 'numero', 'onda', 'pago', 'paquete', 'pasamar', 'pasar', 'poder', 'precio', 'realizar', 'salir', 'saludo', 'ser', 'stock', 'tarde', 'tarjeta', 'telefono', 'tener', 'valer', 'ver', 'whatsapp', 'yo']\n",
      "classes: ['agradecimientos', 'bienvenida', 'contacto', 'despedida', 'envios', 'nombre', 'pagos', 'precios', 'stock']\n",
      "doc_X: ['Hola', '¿Cómo estás?', '¿Qué tal?', 'Saludos', 'Buenas', 'Buenas tardes', 'Buenos dias', 'Buenas noches', 'Hey', 'Que onda', 'Como andas?', '¿Cúal es tu nombre?', '¿Quién sos?', '¿Vos sos?', '¿Como te llamas?', 'contacto', 'número de contacto', 'número de teléfono', 'número de whatsapp', 'whatsapp', 'pasame el número', 'dame tu número', '¿como te contacto?', '¿Realizan envios?', '¿Hacen envios?', '¿Cómo me llega el paquete?', 'precio', 'Me podrás pasar los precios', '¿Cuánto vale?', '¿Cuánto sale?', 'medios de pago', 'tarjeta de crédito', 'tarjetas', 'cuotas', 'Esto está disponible', '¿Tenes stock?', '¿Hay stock hoy?', 'Muchas gracias', 'Gracias', 'Te lo agradezco', 'Chau', 'Hasta luego!', 'Nos vemos', 'Adios']\n",
      "doc_y: ['bienvenida', 'bienvenida', 'bienvenida', 'bienvenida', 'bienvenida', 'bienvenida', 'bienvenida', 'bienvenida', 'bienvenida', 'bienvenida', 'bienvenida', 'nombre', 'nombre', 'nombre', 'nombre', 'contacto', 'contacto', 'contacto', 'contacto', 'contacto', 'contacto', 'contacto', 'contacto', 'envios', 'envios', 'envios', 'precios', 'precios', 'precios', 'precios', 'pagos', 'pagos', 'pagos', 'pagos', 'stock', 'stock', 'stock', 'agradecimientos', 'agradecimientos', 'agradecimientos', 'despedida', 'despedida', 'despedida', 'despedida']\n"
     ]
    }
   ],
   "source": [
    "print(\"words:\", words)\n",
    "print(\"classes:\", classes)\n",
    "print(\"doc_X:\", doc_X)\n",
    "print(\"doc_y:\", doc_y)"
   ]
  },
  {
   "cell_type": "code",
   "execution_count": 16,
   "metadata": {
    "id": "YI0L2U7IQcvy"
   },
   "outputs": [
    {
     "name": "stdout",
     "output_type": "stream",
     "text": [
      "Vocabulario: 40\n"
     ]
    }
   ],
   "source": [
    "# Tamaño del vocabulario\n",
    "print(\"Vocabulario:\", len(words))"
   ]
  },
  {
   "cell_type": "code",
   "execution_count": 17,
   "metadata": {
    "id": "hqBeGKRk_q4r"
   },
   "outputs": [
    {
     "name": "stdout",
     "output_type": "stream",
     "text": [
      "Tags: 9\n"
     ]
    }
   ],
   "source": [
    "# Cantidad de tags\n",
    "print(\"Tags:\", len(classes))"
   ]
  },
  {
   "cell_type": "code",
   "execution_count": 18,
   "metadata": {
    "id": "vpbJ0guPN2Uq"
   },
   "outputs": [
    {
     "name": "stdout",
     "output_type": "stream",
     "text": [
      "X: [0, 0, 0, 0, 0, 0, 0, 0, 0, 0, 0, 0, 1, 0, 0, 0, 0, 0, 0, 0, 0, 0, 0, 0, 0, 0, 0, 0, 0, 0, 0, 0, 0, 0, 0, 0, 0, 0, 0, 0] y: [0, 1, 0, 0, 0, 0, 0, 0, 0]\n",
      "X: [0, 0, 0, 0, 0, 0, 0, 0, 0, 0, 0, 0, 0, 0, 0, 0, 0, 0, 0, 0, 0, 0, 0, 0, 0, 0, 0, 0, 0, 0, 0, 0, 0, 0, 0, 0, 0, 0, 0, 0] y: [0, 1, 0, 0, 0, 0, 0, 0, 0]\n",
      "X: [0, 0, 0, 0, 0, 0, 0, 0, 0, 0, 0, 0, 0, 0, 0, 0, 0, 0, 0, 0, 0, 0, 0, 0, 0, 0, 0, 0, 0, 0, 0, 0, 0, 0, 0, 0, 0, 0, 0, 0] y: [0, 1, 0, 0, 0, 0, 0, 0, 0]\n",
      "X: [0, 0, 0, 0, 0, 0, 0, 0, 0, 0, 0, 0, 0, 0, 0, 0, 0, 0, 0, 0, 0, 0, 0, 0, 0, 0, 0, 0, 0, 1, 0, 0, 0, 0, 0, 0, 0, 0, 0, 0] y: [0, 1, 0, 0, 0, 0, 0, 0, 0]\n",
      "X: [0, 0, 0, 0, 0, 0, 0, 0, 0, 0, 0, 0, 0, 0, 0, 0, 0, 0, 0, 0, 0, 0, 0, 0, 0, 0, 0, 0, 0, 0, 0, 0, 0, 0, 0, 0, 0, 0, 0, 0] y: [0, 1, 0, 0, 0, 0, 0, 0, 0]\n",
      "X: [0, 0, 0, 0, 0, 0, 0, 0, 0, 0, 0, 0, 0, 0, 0, 0, 0, 0, 0, 0, 0, 0, 0, 0, 0, 0, 0, 0, 0, 0, 0, 0, 1, 0, 0, 0, 0, 0, 0, 0] y: [0, 1, 0, 0, 0, 0, 0, 0, 0]\n",
      "X: [0, 0, 0, 0, 0, 0, 0, 0, 0, 0, 0, 0, 0, 0, 0, 0, 0, 0, 0, 0, 0, 0, 0, 0, 0, 0, 0, 0, 0, 0, 0, 0, 0, 0, 0, 0, 0, 0, 0, 0] y: [0, 1, 0, 0, 0, 0, 0, 0, 0]\n",
      "X: [0, 0, 0, 0, 0, 0, 0, 0, 0, 0, 0, 0, 0, 0, 0, 0, 1, 0, 0, 0, 0, 0, 0, 0, 0, 0, 0, 0, 0, 0, 0, 0, 0, 0, 0, 0, 0, 0, 0, 0] y: [0, 1, 0, 0, 0, 0, 0, 0, 0]\n",
      "X: [0, 0, 0, 0, 0, 0, 0, 0, 0, 0, 0, 1, 0, 0, 0, 0, 0, 0, 0, 0, 0, 0, 0, 0, 0, 0, 0, 0, 0, 0, 0, 0, 0, 0, 0, 0, 0, 0, 0, 0] y: [0, 1, 0, 0, 0, 0, 0, 0, 0]\n",
      "X: [0, 0, 0, 0, 0, 0, 0, 0, 0, 0, 0, 0, 0, 0, 0, 0, 0, 0, 0, 0, 1, 0, 0, 0, 0, 0, 0, 0, 0, 0, 0, 0, 0, 0, 0, 0, 0, 0, 0, 0] y: [0, 1, 0, 0, 0, 0, 0, 0, 0]\n",
      "X: [0, 0, 1, 0, 0, 0, 0, 0, 0, 0, 0, 0, 0, 0, 0, 0, 0, 0, 0, 0, 0, 0, 0, 0, 0, 0, 0, 0, 0, 0, 0, 0, 0, 0, 0, 0, 0, 0, 0, 0] y: [0, 1, 0, 0, 0, 0, 0, 0, 0]\n",
      "X: [0, 0, 0, 0, 0, 0, 0, 0, 0, 0, 0, 0, 0, 0, 0, 0, 0, 1, 0, 0, 0, 0, 0, 0, 0, 0, 0, 0, 0, 0, 0, 0, 0, 0, 0, 0, 0, 0, 0, 0] y: [0, 0, 0, 0, 0, 1, 0, 0, 0]\n",
      "X: [0, 0, 0, 0, 0, 0, 0, 0, 0, 0, 0, 0, 0, 0, 0, 0, 0, 0, 0, 0, 0, 0, 0, 0, 0, 0, 0, 0, 0, 0, 1, 0, 0, 0, 0, 0, 0, 0, 0, 0] y: [0, 0, 0, 0, 0, 1, 0, 0, 0]\n",
      "X: [0, 0, 0, 0, 0, 0, 0, 0, 0, 0, 0, 0, 0, 0, 0, 0, 0, 0, 0, 0, 0, 0, 0, 0, 0, 0, 0, 0, 0, 0, 1, 0, 0, 0, 0, 0, 0, 0, 0, 1] y: [0, 0, 0, 0, 0, 1, 0, 0, 0]\n",
      "X: [0, 0, 0, 0, 0, 0, 0, 0, 0, 0, 0, 0, 0, 1, 0, 0, 0, 0, 0, 0, 0, 0, 0, 0, 0, 0, 0, 0, 0, 0, 0, 0, 0, 0, 0, 0, 0, 0, 0, 0] y: [0, 0, 0, 0, 0, 1, 0, 0, 0]\n",
      "X: [0, 0, 0, 0, 1, 0, 0, 0, 0, 0, 0, 0, 0, 0, 0, 0, 0, 0, 0, 0, 0, 0, 0, 0, 0, 0, 0, 0, 0, 0, 0, 0, 0, 0, 0, 0, 0, 0, 0, 0] y: [0, 0, 1, 0, 0, 0, 0, 0, 0]\n",
      "X: [0, 0, 0, 0, 1, 0, 0, 0, 0, 0, 0, 0, 0, 0, 0, 0, 0, 0, 1, 0, 0, 0, 0, 0, 0, 0, 0, 0, 0, 0, 0, 0, 0, 0, 0, 0, 0, 0, 0, 0] y: [0, 0, 1, 0, 0, 0, 0, 0, 0]\n",
      "X: [0, 0, 0, 0, 0, 0, 0, 0, 0, 0, 0, 0, 0, 0, 0, 0, 0, 0, 0, 1, 0, 0, 0, 0, 0, 0, 0, 0, 0, 0, 0, 0, 0, 0, 1, 0, 0, 0, 0, 0] y: [0, 0, 1, 0, 0, 0, 0, 0, 0]\n",
      "X: [0, 0, 0, 0, 0, 0, 0, 0, 0, 0, 0, 0, 0, 0, 0, 0, 0, 0, 0, 1, 0, 0, 0, 0, 0, 0, 0, 0, 0, 0, 0, 0, 0, 0, 0, 0, 0, 0, 1, 0] y: [0, 0, 1, 0, 0, 0, 0, 0, 0]\n",
      "X: [0, 0, 0, 0, 0, 0, 0, 0, 0, 0, 0, 0, 0, 0, 0, 0, 0, 0, 0, 0, 0, 0, 0, 0, 0, 0, 0, 0, 0, 0, 0, 0, 0, 0, 0, 0, 0, 0, 1, 0] y: [0, 0, 1, 0, 0, 0, 0, 0, 0]\n",
      "X: [0, 0, 0, 0, 0, 0, 0, 0, 0, 0, 0, 0, 0, 0, 0, 0, 0, 0, 0, 1, 0, 0, 0, 1, 0, 0, 0, 0, 0, 0, 0, 0, 0, 0, 0, 0, 0, 0, 0, 0] y: [0, 0, 1, 0, 0, 0, 0, 0, 0]\n",
      "X: [0, 0, 0, 0, 0, 0, 0, 1, 0, 0, 0, 0, 0, 0, 0, 0, 0, 0, 0, 1, 0, 0, 0, 0, 0, 0, 0, 0, 0, 0, 0, 0, 0, 0, 0, 0, 0, 0, 0, 0] y: [0, 0, 1, 0, 0, 0, 0, 0, 0]\n",
      "X: [0, 0, 0, 0, 1, 0, 0, 0, 0, 0, 0, 0, 0, 0, 0, 0, 0, 0, 0, 0, 0, 0, 0, 0, 0, 0, 0, 0, 0, 0, 0, 0, 0, 0, 0, 0, 0, 0, 0, 0] y: [0, 0, 1, 0, 0, 0, 0, 0, 0]\n",
      "X: [0, 0, 0, 0, 0, 0, 0, 0, 0, 1, 0, 0, 0, 0, 0, 0, 0, 0, 0, 0, 0, 0, 0, 0, 0, 0, 0, 1, 0, 0, 0, 0, 0, 0, 0, 0, 0, 0, 0, 0] y: [0, 0, 0, 0, 1, 0, 0, 0, 0]\n",
      "X: [0, 0, 0, 0, 0, 0, 0, 0, 0, 1, 0, 0, 0, 0, 0, 0, 0, 0, 0, 0, 0, 0, 0, 0, 0, 0, 0, 0, 0, 0, 0, 0, 0, 0, 0, 0, 0, 0, 0, 0] y: [0, 0, 0, 0, 1, 0, 0, 0, 0]\n",
      "X: [0, 0, 0, 0, 0, 0, 0, 0, 0, 0, 0, 0, 0, 0, 1, 0, 0, 0, 0, 0, 0, 0, 1, 0, 0, 0, 0, 0, 0, 0, 0, 0, 0, 0, 0, 0, 0, 0, 0, 0] y: [0, 0, 0, 0, 1, 0, 0, 0, 0]\n",
      "X: [0, 0, 0, 0, 0, 0, 0, 0, 0, 0, 0, 0, 0, 0, 0, 0, 0, 0, 0, 0, 0, 0, 0, 0, 0, 0, 1, 0, 0, 0, 0, 0, 0, 0, 0, 0, 0, 0, 0, 0] y: [0, 0, 0, 0, 0, 0, 0, 1, 0]\n",
      "X: [0, 0, 0, 0, 0, 0, 0, 0, 0, 0, 0, 0, 0, 0, 0, 0, 0, 0, 0, 0, 0, 0, 0, 0, 1, 1, 1, 0, 0, 0, 0, 0, 0, 0, 0, 0, 0, 0, 0, 0] y: [0, 0, 0, 0, 0, 0, 0, 1, 0]\n",
      "X: [0, 0, 0, 0, 0, 0, 0, 0, 0, 0, 0, 0, 0, 0, 0, 0, 0, 0, 0, 0, 0, 0, 0, 0, 0, 0, 0, 0, 0, 0, 0, 0, 0, 0, 0, 0, 1, 0, 0, 0] y: [0, 0, 0, 0, 0, 0, 0, 1, 0]\n",
      "X: [0, 0, 0, 0, 0, 0, 0, 0, 0, 0, 0, 0, 0, 0, 0, 0, 0, 0, 0, 0, 0, 0, 0, 0, 0, 0, 0, 0, 1, 0, 0, 0, 0, 0, 0, 0, 0, 0, 0, 0] y: [0, 0, 0, 0, 0, 0, 0, 1, 0]\n",
      "X: [0, 0, 0, 0, 0, 0, 0, 0, 0, 0, 0, 0, 0, 0, 0, 1, 0, 0, 0, 0, 0, 1, 0, 0, 0, 0, 0, 0, 0, 0, 0, 0, 0, 0, 0, 0, 0, 0, 0, 0] y: [0, 0, 0, 0, 0, 0, 1, 0, 0]\n",
      "X: [0, 0, 0, 0, 0, 1, 0, 0, 0, 0, 0, 0, 0, 0, 0, 0, 0, 0, 0, 0, 0, 0, 0, 0, 0, 0, 0, 0, 0, 0, 0, 0, 0, 1, 0, 0, 0, 0, 0, 0] y: [0, 0, 0, 0, 0, 0, 1, 0, 0]\n",
      "X: [0, 0, 0, 0, 0, 0, 0, 0, 0, 0, 0, 0, 0, 0, 0, 0, 0, 0, 0, 0, 0, 0, 0, 0, 0, 0, 0, 0, 0, 0, 0, 0, 0, 1, 0, 0, 0, 0, 0, 0] y: [0, 0, 0, 0, 0, 0, 1, 0, 0]\n",
      "X: [0, 0, 0, 0, 0, 0, 1, 0, 0, 0, 0, 0, 0, 0, 0, 0, 0, 0, 0, 0, 0, 0, 0, 0, 0, 0, 0, 0, 0, 0, 0, 0, 0, 0, 0, 0, 0, 0, 0, 0] y: [0, 0, 0, 0, 0, 0, 1, 0, 0]\n",
      "X: [0, 0, 0, 0, 0, 0, 0, 0, 1, 0, 0, 0, 0, 0, 0, 0, 0, 0, 0, 0, 0, 0, 0, 0, 0, 0, 0, 0, 0, 0, 0, 0, 0, 0, 0, 0, 0, 0, 0, 0] y: [0, 0, 0, 0, 0, 0, 0, 0, 1]\n",
      "X: [0, 0, 0, 0, 0, 0, 0, 0, 0, 0, 0, 0, 0, 0, 0, 0, 0, 0, 0, 0, 0, 0, 0, 0, 0, 0, 0, 0, 0, 0, 0, 1, 0, 0, 0, 1, 0, 0, 0, 0] y: [0, 0, 0, 0, 0, 0, 0, 0, 1]\n",
      "X: [0, 0, 0, 0, 0, 0, 0, 0, 0, 0, 0, 0, 0, 0, 0, 0, 0, 0, 0, 0, 0, 0, 0, 0, 0, 0, 0, 0, 0, 0, 0, 1, 0, 0, 0, 0, 0, 0, 0, 0] y: [0, 0, 0, 0, 0, 0, 0, 0, 1]\n",
      "X: [0, 0, 0, 0, 0, 0, 0, 0, 0, 0, 1, 0, 0, 0, 0, 0, 0, 0, 0, 0, 0, 0, 0, 0, 0, 0, 0, 0, 0, 0, 0, 0, 0, 0, 0, 0, 0, 0, 0, 0] y: [1, 0, 0, 0, 0, 0, 0, 0, 0]\n",
      "X: [0, 0, 0, 0, 0, 0, 0, 0, 0, 0, 1, 0, 0, 0, 0, 0, 0, 0, 0, 0, 0, 0, 0, 0, 0, 0, 0, 0, 0, 0, 0, 0, 0, 0, 0, 0, 0, 0, 0, 0] y: [1, 0, 0, 0, 0, 0, 0, 0, 0]\n",
      "X: [0, 1, 0, 0, 0, 0, 0, 0, 0, 0, 0, 0, 0, 0, 0, 0, 0, 0, 0, 0, 0, 0, 0, 0, 0, 0, 0, 0, 0, 0, 0, 0, 0, 0, 0, 0, 0, 0, 0, 0] y: [1, 0, 0, 0, 0, 0, 0, 0, 0]\n",
      "X: [0, 0, 0, 1, 0, 0, 0, 0, 0, 0, 0, 0, 0, 0, 0, 0, 0, 0, 0, 0, 0, 0, 0, 0, 0, 0, 0, 0, 0, 0, 0, 0, 0, 0, 0, 0, 0, 0, 0, 0] y: [0, 0, 0, 1, 0, 0, 0, 0, 0]\n",
      "X: [0, 0, 0, 0, 0, 0, 0, 0, 0, 0, 0, 0, 0, 0, 0, 0, 0, 0, 0, 0, 0, 0, 0, 0, 0, 0, 0, 0, 0, 0, 0, 0, 0, 0, 0, 0, 0, 0, 0, 0] y: [0, 0, 0, 1, 0, 0, 0, 0, 0]\n",
      "X: [0, 0, 0, 0, 0, 0, 0, 0, 0, 0, 0, 0, 0, 0, 0, 0, 0, 0, 0, 0, 0, 0, 0, 0, 0, 0, 0, 0, 0, 0, 0, 0, 0, 0, 0, 0, 0, 1, 0, 0] y: [0, 0, 0, 1, 0, 0, 0, 0, 0]\n",
      "X: [1, 0, 0, 0, 0, 0, 0, 0, 0, 0, 0, 0, 0, 0, 0, 0, 0, 0, 0, 0, 0, 0, 0, 0, 0, 0, 0, 0, 0, 0, 0, 0, 0, 0, 0, 0, 0, 0, 0, 0] y: [0, 0, 0, 1, 0, 0, 0, 0, 0]\n"
     ]
    }
   ],
   "source": [
    "# Transformar doc_X en bag of words por oneHotEncoding\n",
    "# Transformar doc_Y en un vector de clases multicategórico con oneHotEncoding\n",
    "\n",
    "training = []\n",
    "out_empty = [0] * len(classes)\n",
    "\n",
    "for idx, doc in enumerate(doc_X):\n",
    "    # Transformar la pregunta (input) en tokens y lematizar\n",
    "    text = []\n",
    "    tokens = nlp(preprocess_clean_text(doc.lower()))\n",
    "    for token in tokens:\n",
    "        text.append(token.lemma_)\n",
    "\n",
    "    # Transformar los tokens en \"Bag of words\" (arrays de 1 y 0)\n",
    "    bow = []\n",
    "    for word in words:\n",
    "        bow.append(1) if word in text else bow.append(0)\n",
    "    \n",
    "    # Crear el array de salida (class output) correspondiente\n",
    "    output_row = list(out_empty)\n",
    "    output_row[classes.index(doc_y[idx])] = 1\n",
    "\n",
    "    print(\"X:\", bow, \"y:\", output_row)\n",
    "    training.append([bow, output_row])\n",
    "\n",
    "# Mezclar los datos\n",
    "random.shuffle(training)\n",
    "training = np.array(training, dtype=object)\n",
    "# Dividir en datos de entrada y salida\n",
    "train_X = np.array(list(training[:, 0]))\n",
    "train_y = np.array(list(training[:, 1]))"
   ]
  },
  {
   "attachments": {},
   "cell_type": "markdown",
   "metadata": {
    "id": "a_Hr8QaDfRf3"
   },
   "source": [
    "### 5 - Entrenamiento del modelo"
   ]
  },
  {
   "cell_type": "code",
   "execution_count": 19,
   "metadata": {
    "id": "fopb3NqcAGTz"
   },
   "outputs": [
    {
     "name": "stdout",
     "output_type": "stream",
     "text": [
      "input: (40,) output: 9\n"
     ]
    }
   ],
   "source": [
    "# Shape de entrada y salida\n",
    "input_shape = (train_X.shape[1],)\n",
    "output_shape = train_y.shape[1]\n",
    "print(\"input:\", input_shape, \"output:\", output_shape)"
   ]
  },
  {
   "cell_type": "code",
   "execution_count": 37,
   "metadata": {
    "id": "xy7tzkwdOZx9"
   },
   "outputs": [
    {
     "name": "stdout",
     "output_type": "stream",
     "text": [
      "Model: \"sequential_11\"\n",
      "_________________________________________________________________\n",
      " Layer (type)                Output Shape              Param #   \n",
      "=================================================================\n",
      " dense_24 (Dense)            (None, 128)               5248      \n",
      "                                                                 \n",
      " dropout_16 (Dropout)        (None, 128)               0         \n",
      "                                                                 \n",
      " dense_25 (Dense)            (None, 64)                8256      \n",
      "                                                                 \n",
      " dropout_17 (Dropout)        (None, 64)                0         \n",
      "                                                                 \n",
      " dense_26 (Dense)            (None, 9)                 585       \n",
      "                                                                 \n",
      "=================================================================\n",
      "Total params: 14089 (55.04 KB)\n",
      "Trainable params: 14089 (55.04 KB)\n",
      "Non-trainable params: 0 (0.00 Byte)\n",
      "_________________________________________________________________\n",
      "None\n"
     ]
    }
   ],
   "source": [
    "# Entrenamiento del modelo DNN\n",
    "# - Modelo secuencial\n",
    "# - Con regularización\n",
    "# - softmax y optimizador Adam\n",
    "model = Sequential()\n",
    "model.add(Dense(128, input_shape=input_shape, activation=\"relu\"))\n",
    "model.add(Dropout(0.5))\n",
    "model.add(Dense(64, activation=\"relu\"))\n",
    "model.add(Dropout(0.5))\n",
    "model.add(Dense(output_shape, activation = \"softmax\"))\n",
    "\n",
    "model.compile(loss='categorical_crossentropy',\n",
    "              optimizer=tf.keras.optimizers.Adam(learning_rate=1e-3),\n",
    "            \n",
    "              metrics=[\"accuracy\"])\n",
    "print(model.summary())"
   ]
  },
  {
   "cell_type": "code",
   "execution_count": 38,
   "metadata": {
    "id": "r6hi4EcdOghm"
   },
   "outputs": [
    {
     "name": "stdout",
     "output_type": "stream",
     "text": [
      "Epoch 1/300\n",
      "3/3 [==============================] - 1s 3ms/step - loss: 2.2216 - accuracy: 0.1136\n",
      "Epoch 2/300\n",
      "3/3 [==============================] - 0s 6ms/step - loss: 2.2282 - accuracy: 0.1364\n",
      "Epoch 3/300\n",
      "3/3 [==============================] - 0s 5ms/step - loss: 2.1884 - accuracy: 0.2045\n",
      "Epoch 4/300\n",
      "3/3 [==============================] - 0s 5ms/step - loss: 2.1700 - accuracy: 0.2273\n",
      "Epoch 5/300\n",
      "3/3 [==============================] - 0s 3ms/step - loss: 2.1710 - accuracy: 0.1591\n",
      "Epoch 6/300\n",
      "3/3 [==============================] - 0s 3ms/step - loss: 2.1450 - accuracy: 0.1818\n",
      "Epoch 7/300\n",
      "3/3 [==============================] - 0s 4ms/step - loss: 2.1045 - accuracy: 0.3182\n",
      "Epoch 8/300\n",
      "3/3 [==============================] - 0s 5ms/step - loss: 2.1384 - accuracy: 0.3636\n",
      "Epoch 9/300\n",
      "3/3 [==============================] - 0s 5ms/step - loss: 2.1714 - accuracy: 0.2045\n",
      "Epoch 10/300\n",
      "3/3 [==============================] - 0s 4ms/step - loss: 2.0780 - accuracy: 0.4091\n",
      "Epoch 11/300\n",
      "3/3 [==============================] - 0s 5ms/step - loss: 2.0549 - accuracy: 0.3409\n",
      "Epoch 12/300\n",
      "3/3 [==============================] - 0s 5ms/step - loss: 2.0476 - accuracy: 0.3864\n",
      "Epoch 13/300\n",
      "3/3 [==============================] - 0s 4ms/step - loss: 2.0448 - accuracy: 0.3864\n",
      "Epoch 14/300\n",
      "3/3 [==============================] - 0s 6ms/step - loss: 2.0668 - accuracy: 0.2955\n",
      "Epoch 15/300\n",
      "3/3 [==============================] - 0s 5ms/step - loss: 2.0757 - accuracy: 0.3182\n",
      "Epoch 16/300\n",
      "3/3 [==============================] - 0s 5ms/step - loss: 1.9837 - accuracy: 0.4545\n",
      "Epoch 17/300\n",
      "3/3 [==============================] - 0s 5ms/step - loss: 1.9552 - accuracy: 0.4545\n",
      "Epoch 18/300\n",
      "3/3 [==============================] - 0s 5ms/step - loss: 1.9866 - accuracy: 0.3636\n",
      "Epoch 19/300\n",
      "3/3 [==============================] - 0s 4ms/step - loss: 1.9821 - accuracy: 0.4091\n",
      "Epoch 20/300\n",
      "3/3 [==============================] - 0s 3ms/step - loss: 1.9081 - accuracy: 0.5227\n",
      "Epoch 21/300\n",
      "3/3 [==============================] - 0s 5ms/step - loss: 1.9257 - accuracy: 0.4545\n",
      "Epoch 22/300\n",
      "3/3 [==============================] - 0s 5ms/step - loss: 1.8797 - accuracy: 0.4091\n",
      "Epoch 23/300\n",
      "3/3 [==============================] - 0s 4ms/step - loss: 1.9173 - accuracy: 0.4318\n",
      "Epoch 24/300\n",
      "3/3 [==============================] - 0s 4ms/step - loss: 1.8383 - accuracy: 0.5000\n",
      "Epoch 25/300\n",
      "3/3 [==============================] - 0s 4ms/step - loss: 1.9158 - accuracy: 0.4545\n",
      "Epoch 26/300\n",
      "3/3 [==============================] - 0s 5ms/step - loss: 1.9182 - accuracy: 0.4318\n",
      "Epoch 27/300\n",
      "3/3 [==============================] - 0s 4ms/step - loss: 1.8871 - accuracy: 0.4318\n",
      "Epoch 28/300\n",
      "3/3 [==============================] - 0s 24ms/step - loss: 1.8193 - accuracy: 0.4545\n",
      "Epoch 29/300\n",
      "3/3 [==============================] - 0s 5ms/step - loss: 1.7761 - accuracy: 0.5227\n",
      "Epoch 30/300\n",
      "3/3 [==============================] - 0s 5ms/step - loss: 1.7444 - accuracy: 0.5227\n",
      "Epoch 31/300\n",
      "3/3 [==============================] - 0s 4ms/step - loss: 1.7480 - accuracy: 0.4091\n",
      "Epoch 32/300\n",
      "3/3 [==============================] - 0s 3ms/step - loss: 1.7577 - accuracy: 0.5000\n",
      "Epoch 33/300\n",
      "3/3 [==============================] - 0s 4ms/step - loss: 1.6664 - accuracy: 0.5455\n",
      "Epoch 34/300\n",
      "3/3 [==============================] - 0s 4ms/step - loss: 1.6348 - accuracy: 0.5227\n",
      "Epoch 35/300\n",
      "3/3 [==============================] - 0s 4ms/step - loss: 1.6550 - accuracy: 0.5682\n",
      "Epoch 36/300\n",
      "3/3 [==============================] - 0s 5ms/step - loss: 1.5422 - accuracy: 0.5682\n",
      "Epoch 37/300\n",
      "3/3 [==============================] - 0s 5ms/step - loss: 1.4805 - accuracy: 0.5455\n",
      "Epoch 38/300\n",
      "3/3 [==============================] - 0s 8ms/step - loss: 1.5302 - accuracy: 0.5455\n",
      "Epoch 39/300\n",
      "3/3 [==============================] - 0s 5ms/step - loss: 1.5286 - accuracy: 0.5000\n",
      "Epoch 40/300\n",
      "3/3 [==============================] - 0s 4ms/step - loss: 1.5484 - accuracy: 0.6136\n",
      "Epoch 41/300\n",
      "3/3 [==============================] - 0s 4ms/step - loss: 1.4729 - accuracy: 0.6364\n",
      "Epoch 42/300\n",
      "3/3 [==============================] - 0s 4ms/step - loss: 1.4080 - accuracy: 0.6364\n",
      "Epoch 43/300\n",
      "3/3 [==============================] - 0s 5ms/step - loss: 1.3885 - accuracy: 0.6591\n",
      "Epoch 44/300\n",
      "3/3 [==============================] - 0s 4ms/step - loss: 1.3527 - accuracy: 0.6591\n",
      "Epoch 45/300\n",
      "3/3 [==============================] - 0s 3ms/step - loss: 1.4050 - accuracy: 0.6136\n",
      "Epoch 46/300\n",
      "3/3 [==============================] - 0s 4ms/step - loss: 1.3617 - accuracy: 0.5909\n",
      "Epoch 47/300\n",
      "3/3 [==============================] - 0s 3ms/step - loss: 1.2504 - accuracy: 0.6591\n",
      "Epoch 48/300\n",
      "3/3 [==============================] - 0s 4ms/step - loss: 1.1774 - accuracy: 0.7045\n",
      "Epoch 49/300\n",
      "3/3 [==============================] - 0s 4ms/step - loss: 1.3791 - accuracy: 0.6136\n",
      "Epoch 50/300\n",
      "3/3 [==============================] - 0s 4ms/step - loss: 1.1435 - accuracy: 0.6591\n",
      "Epoch 51/300\n",
      "3/3 [==============================] - 0s 4ms/step - loss: 1.1165 - accuracy: 0.6818\n",
      "Epoch 52/300\n",
      "3/3 [==============================] - 0s 3ms/step - loss: 1.1441 - accuracy: 0.7045\n",
      "Epoch 53/300\n",
      "3/3 [==============================] - 0s 4ms/step - loss: 1.1138 - accuracy: 0.7045\n",
      "Epoch 54/300\n",
      "3/3 [==============================] - 0s 4ms/step - loss: 1.0808 - accuracy: 0.7727\n",
      "Epoch 55/300\n",
      "3/3 [==============================] - 0s 4ms/step - loss: 0.9912 - accuracy: 0.8182\n",
      "Epoch 56/300\n",
      "3/3 [==============================] - 0s 4ms/step - loss: 1.0662 - accuracy: 0.7273\n",
      "Epoch 57/300\n",
      "3/3 [==============================] - 0s 4ms/step - loss: 1.0520 - accuracy: 0.7500\n",
      "Epoch 58/300\n",
      "3/3 [==============================] - 0s 4ms/step - loss: 1.0006 - accuracy: 0.8182\n",
      "Epoch 59/300\n",
      "3/3 [==============================] - 0s 4ms/step - loss: 1.0288 - accuracy: 0.6818\n",
      "Epoch 60/300\n",
      "3/3 [==============================] - 0s 4ms/step - loss: 0.9627 - accuracy: 0.7273\n",
      "Epoch 61/300\n",
      "3/3 [==============================] - 0s 3ms/step - loss: 0.9691 - accuracy: 0.7955\n",
      "Epoch 62/300\n",
      "3/3 [==============================] - 0s 4ms/step - loss: 0.8547 - accuracy: 0.8864\n",
      "Epoch 63/300\n",
      "3/3 [==============================] - 0s 4ms/step - loss: 0.9519 - accuracy: 0.8182\n",
      "Epoch 64/300\n",
      "3/3 [==============================] - 0s 4ms/step - loss: 1.0264 - accuracy: 0.7273\n",
      "Epoch 65/300\n",
      "3/3 [==============================] - 0s 4ms/step - loss: 0.9409 - accuracy: 0.7500\n",
      "Epoch 66/300\n",
      "3/3 [==============================] - 0s 4ms/step - loss: 0.9275 - accuracy: 0.7727\n",
      "Epoch 67/300\n",
      "3/3 [==============================] - 0s 4ms/step - loss: 0.7623 - accuracy: 0.8409\n",
      "Epoch 68/300\n",
      "3/3 [==============================] - 0s 5ms/step - loss: 0.8486 - accuracy: 0.8409\n",
      "Epoch 69/300\n",
      "3/3 [==============================] - 0s 4ms/step - loss: 0.7307 - accuracy: 0.8864\n",
      "Epoch 70/300\n",
      "3/3 [==============================] - 0s 4ms/step - loss: 0.7732 - accuracy: 0.8636\n",
      "Epoch 71/300\n",
      "3/3 [==============================] - 0s 4ms/step - loss: 0.6996 - accuracy: 0.8864\n",
      "Epoch 72/300\n",
      "3/3 [==============================] - 0s 4ms/step - loss: 0.7454 - accuracy: 0.8864\n",
      "Epoch 73/300\n",
      "3/3 [==============================] - 0s 21ms/step - loss: 0.6102 - accuracy: 0.9773\n",
      "Epoch 74/300\n",
      "3/3 [==============================] - 0s 4ms/step - loss: 0.7144 - accuracy: 0.8409\n",
      "Epoch 75/300\n",
      "3/3 [==============================] - 0s 7ms/step - loss: 0.7698 - accuracy: 0.7955\n",
      "Epoch 76/300\n",
      "3/3 [==============================] - 0s 4ms/step - loss: 0.6674 - accuracy: 0.8864\n",
      "Epoch 77/300\n",
      "3/3 [==============================] - 0s 5ms/step - loss: 0.6865 - accuracy: 0.8864\n",
      "Epoch 78/300\n",
      "3/3 [==============================] - 0s 4ms/step - loss: 0.5056 - accuracy: 0.9773\n",
      "Epoch 79/300\n",
      "3/3 [==============================] - 0s 5ms/step - loss: 0.5986 - accuracy: 0.9091\n",
      "Epoch 80/300\n",
      "3/3 [==============================] - 0s 4ms/step - loss: 0.4767 - accuracy: 0.9545\n",
      "Epoch 81/300\n",
      "3/3 [==============================] - 0s 6ms/step - loss: 0.4832 - accuracy: 0.9545\n",
      "Epoch 82/300\n",
      "3/3 [==============================] - 0s 6ms/step - loss: 0.5451 - accuracy: 0.8636\n",
      "Epoch 83/300\n",
      "3/3 [==============================] - 0s 5ms/step - loss: 0.6045 - accuracy: 0.8864\n",
      "Epoch 84/300\n",
      "3/3 [==============================] - 0s 5ms/step - loss: 0.5955 - accuracy: 0.8864\n",
      "Epoch 85/300\n",
      "3/3 [==============================] - 0s 6ms/step - loss: 0.4648 - accuracy: 0.9318\n",
      "Epoch 86/300\n",
      "3/3 [==============================] - 0s 6ms/step - loss: 0.5414 - accuracy: 0.8864\n",
      "Epoch 87/300\n",
      "3/3 [==============================] - 0s 5ms/step - loss: 0.4611 - accuracy: 0.9091\n",
      "Epoch 88/300\n",
      "3/3 [==============================] - 0s 4ms/step - loss: 0.4099 - accuracy: 0.9773\n",
      "Epoch 89/300\n",
      "3/3 [==============================] - 0s 5ms/step - loss: 0.5003 - accuracy: 0.9091\n",
      "Epoch 90/300\n",
      "3/3 [==============================] - 0s 4ms/step - loss: 0.4362 - accuracy: 0.9318\n",
      "Epoch 91/300\n",
      "3/3 [==============================] - 0s 4ms/step - loss: 0.5341 - accuracy: 0.9091\n",
      "Epoch 92/300\n",
      "3/3 [==============================] - 0s 5ms/step - loss: 0.4528 - accuracy: 0.9318\n",
      "Epoch 93/300\n",
      "3/3 [==============================] - 0s 5ms/step - loss: 0.4839 - accuracy: 0.9318\n",
      "Epoch 94/300\n",
      "3/3 [==============================] - 0s 5ms/step - loss: 0.4898 - accuracy: 0.9318\n",
      "Epoch 95/300\n",
      "3/3 [==============================] - 0s 5ms/step - loss: 0.4816 - accuracy: 0.8636\n",
      "Epoch 96/300\n",
      "3/3 [==============================] - 0s 4ms/step - loss: 0.4184 - accuracy: 0.9091\n",
      "Epoch 97/300\n",
      "3/3 [==============================] - 0s 5ms/step - loss: 0.4135 - accuracy: 0.9773\n",
      "Epoch 98/300\n",
      "3/3 [==============================] - 0s 4ms/step - loss: 0.3707 - accuracy: 0.9318\n",
      "Epoch 99/300\n",
      "3/3 [==============================] - 0s 5ms/step - loss: 0.3749 - accuracy: 0.9545\n",
      "Epoch 100/300\n",
      "3/3 [==============================] - 0s 5ms/step - loss: 0.4053 - accuracy: 0.9318\n",
      "Epoch 101/300\n",
      "3/3 [==============================] - 0s 4ms/step - loss: 0.4163 - accuracy: 0.9318\n",
      "Epoch 102/300\n",
      "3/3 [==============================] - 0s 4ms/step - loss: 0.3759 - accuracy: 0.9318\n",
      "Epoch 103/300\n",
      "3/3 [==============================] - 0s 4ms/step - loss: 0.3618 - accuracy: 0.9318\n",
      "Epoch 104/300\n",
      "3/3 [==============================] - 0s 4ms/step - loss: 0.3776 - accuracy: 0.9318\n",
      "Epoch 105/300\n",
      "3/3 [==============================] - 0s 4ms/step - loss: 0.3707 - accuracy: 0.9545\n",
      "Epoch 106/300\n",
      "3/3 [==============================] - 0s 5ms/step - loss: 0.3772 - accuracy: 0.9091\n",
      "Epoch 107/300\n",
      "3/3 [==============================] - 0s 4ms/step - loss: 0.2898 - accuracy: 0.9773\n",
      "Epoch 108/300\n",
      "3/3 [==============================] - 0s 23ms/step - loss: 0.3073 - accuracy: 0.9773\n",
      "Epoch 109/300\n",
      "3/3 [==============================] - 0s 6ms/step - loss: 0.3133 - accuracy: 0.9318\n",
      "Epoch 110/300\n",
      "3/3 [==============================] - 0s 9ms/step - loss: 0.3179 - accuracy: 0.9545\n",
      "Epoch 111/300\n",
      "3/3 [==============================] - 0s 6ms/step - loss: 0.4126 - accuracy: 0.9318\n",
      "Epoch 112/300\n",
      "3/3 [==============================] - 0s 4ms/step - loss: 0.3225 - accuracy: 0.9545\n",
      "Epoch 113/300\n",
      "3/3 [==============================] - 0s 4ms/step - loss: 0.3020 - accuracy: 0.9545\n",
      "Epoch 114/300\n",
      "3/3 [==============================] - 0s 5ms/step - loss: 0.3034 - accuracy: 0.9545\n",
      "Epoch 115/300\n",
      "3/3 [==============================] - 0s 6ms/step - loss: 0.4161 - accuracy: 0.8864\n",
      "Epoch 116/300\n",
      "3/3 [==============================] - 0s 5ms/step - loss: 0.2916 - accuracy: 0.9091\n",
      "Epoch 117/300\n",
      "3/3 [==============================] - 0s 5ms/step - loss: 0.2999 - accuracy: 0.9091\n",
      "Epoch 118/300\n",
      "3/3 [==============================] - 0s 4ms/step - loss: 0.4289 - accuracy: 0.8636\n",
      "Epoch 119/300\n",
      "3/3 [==============================] - 0s 3ms/step - loss: 0.3188 - accuracy: 0.9091\n",
      "Epoch 120/300\n",
      "3/3 [==============================] - 0s 4ms/step - loss: 0.3200 - accuracy: 0.9318\n",
      "Epoch 121/300\n",
      "3/3 [==============================] - 0s 4ms/step - loss: 0.4313 - accuracy: 0.8636\n",
      "Epoch 122/300\n",
      "3/3 [==============================] - 0s 4ms/step - loss: 0.3445 - accuracy: 0.9773\n",
      "Epoch 123/300\n",
      "3/3 [==============================] - 0s 6ms/step - loss: 0.3140 - accuracy: 0.9318\n",
      "Epoch 124/300\n",
      "3/3 [==============================] - 0s 4ms/step - loss: 0.2565 - accuracy: 0.9545\n",
      "Epoch 125/300\n",
      "3/3 [==============================] - 0s 5ms/step - loss: 0.2323 - accuracy: 0.9773\n",
      "Epoch 126/300\n",
      "3/3 [==============================] - 0s 4ms/step - loss: 0.3425 - accuracy: 0.8636\n",
      "Epoch 127/300\n",
      "3/3 [==============================] - 0s 4ms/step - loss: 0.3485 - accuracy: 0.9091\n",
      "Epoch 128/300\n",
      "3/3 [==============================] - 0s 4ms/step - loss: 0.2367 - accuracy: 0.9545\n",
      "Epoch 129/300\n",
      "3/3 [==============================] - 0s 4ms/step - loss: 0.3799 - accuracy: 0.9318\n",
      "Epoch 130/300\n",
      "3/3 [==============================] - 0s 4ms/step - loss: 0.2469 - accuracy: 0.9545\n",
      "Epoch 131/300\n",
      "3/3 [==============================] - 0s 4ms/step - loss: 0.2631 - accuracy: 0.9545\n",
      "Epoch 132/300\n",
      "3/3 [==============================] - 0s 4ms/step - loss: 0.2082 - accuracy: 0.9545\n",
      "Epoch 133/300\n",
      "3/3 [==============================] - 0s 5ms/step - loss: 0.1934 - accuracy: 0.9773\n",
      "Epoch 134/300\n",
      "3/3 [==============================] - 0s 6ms/step - loss: 0.2554 - accuracy: 0.9318\n",
      "Epoch 135/300\n",
      "3/3 [==============================] - 0s 5ms/step - loss: 0.3134 - accuracy: 0.9318\n",
      "Epoch 136/300\n",
      "3/3 [==============================] - 0s 4ms/step - loss: 0.2384 - accuracy: 0.9545\n",
      "Epoch 137/300\n",
      "3/3 [==============================] - 0s 4ms/step - loss: 0.2021 - accuracy: 0.9773\n",
      "Epoch 138/300\n",
      "3/3 [==============================] - 0s 4ms/step - loss: 0.2366 - accuracy: 0.9545\n",
      "Epoch 139/300\n",
      "3/3 [==============================] - 0s 4ms/step - loss: 0.2459 - accuracy: 0.9545\n",
      "Epoch 140/300\n",
      "3/3 [==============================] - 0s 4ms/step - loss: 0.2269 - accuracy: 0.9545\n",
      "Epoch 141/300\n",
      "3/3 [==============================] - 0s 4ms/step - loss: 0.3295 - accuracy: 0.9091\n",
      "Epoch 142/300\n",
      "3/3 [==============================] - 0s 5ms/step - loss: 0.1869 - accuracy: 0.9773\n",
      "Epoch 143/300\n",
      "3/3 [==============================] - 0s 4ms/step - loss: 0.1636 - accuracy: 0.9773\n",
      "Epoch 144/300\n",
      "3/3 [==============================] - 0s 5ms/step - loss: 0.3416 - accuracy: 0.9091\n",
      "Epoch 145/300\n",
      "3/3 [==============================] - 0s 4ms/step - loss: 0.3113 - accuracy: 0.9318\n",
      "Epoch 146/300\n",
      "3/3 [==============================] - 0s 5ms/step - loss: 0.1666 - accuracy: 0.9773\n",
      "Epoch 147/300\n",
      "3/3 [==============================] - 0s 5ms/step - loss: 0.2466 - accuracy: 0.9318\n",
      "Epoch 148/300\n",
      "3/3 [==============================] - 0s 5ms/step - loss: 0.2017 - accuracy: 0.9773\n",
      "Epoch 149/300\n",
      "3/3 [==============================] - 0s 4ms/step - loss: 0.2091 - accuracy: 0.9545\n",
      "Epoch 150/300\n",
      "3/3 [==============================] - 0s 5ms/step - loss: 0.2300 - accuracy: 0.9545\n",
      "Epoch 151/300\n",
      "3/3 [==============================] - 0s 4ms/step - loss: 0.1832 - accuracy: 0.9773\n",
      "Epoch 152/300\n",
      "3/3 [==============================] - 0s 5ms/step - loss: 0.1508 - accuracy: 0.9773\n",
      "Epoch 153/300\n",
      "3/3 [==============================] - 0s 4ms/step - loss: 0.1756 - accuracy: 0.9545\n",
      "Epoch 154/300\n",
      "3/3 [==============================] - 0s 4ms/step - loss: 0.1624 - accuracy: 0.9545\n",
      "Epoch 155/300\n",
      "3/3 [==============================] - 0s 4ms/step - loss: 0.2347 - accuracy: 0.9773\n",
      "Epoch 156/300\n",
      "3/3 [==============================] - 0s 4ms/step - loss: 0.2224 - accuracy: 0.9545\n",
      "Epoch 157/300\n",
      "3/3 [==============================] - 0s 4ms/step - loss: 0.2270 - accuracy: 0.9318\n",
      "Epoch 158/300\n",
      "3/3 [==============================] - 0s 5ms/step - loss: 0.2200 - accuracy: 0.9545\n",
      "Epoch 159/300\n",
      "3/3 [==============================] - 0s 3ms/step - loss: 0.2224 - accuracy: 0.9318\n",
      "Epoch 160/300\n",
      "3/3 [==============================] - 0s 4ms/step - loss: 0.1763 - accuracy: 0.9318\n",
      "Epoch 161/300\n",
      "3/3 [==============================] - 0s 4ms/step - loss: 0.1823 - accuracy: 0.9773\n",
      "Epoch 162/300\n",
      "3/3 [==============================] - 0s 21ms/step - loss: 0.2033 - accuracy: 0.9773\n",
      "Epoch 163/300\n",
      "3/3 [==============================] - 0s 6ms/step - loss: 0.1549 - accuracy: 0.9773\n",
      "Epoch 164/300\n",
      "3/3 [==============================] - 0s 5ms/step - loss: 0.2259 - accuracy: 0.9091\n",
      "Epoch 165/300\n",
      "3/3 [==============================] - 0s 6ms/step - loss: 0.1807 - accuracy: 0.9318\n",
      "Epoch 166/300\n",
      "3/3 [==============================] - 0s 4ms/step - loss: 0.2442 - accuracy: 0.9091\n",
      "Epoch 167/300\n",
      "3/3 [==============================] - 0s 4ms/step - loss: 0.1944 - accuracy: 0.9773\n",
      "Epoch 168/300\n",
      "3/3 [==============================] - 0s 4ms/step - loss: 0.1229 - accuracy: 0.9545\n",
      "Epoch 169/300\n",
      "3/3 [==============================] - 0s 4ms/step - loss: 0.1804 - accuracy: 0.9773\n",
      "Epoch 170/300\n",
      "3/3 [==============================] - 0s 5ms/step - loss: 0.1268 - accuracy: 0.9773\n",
      "Epoch 171/300\n",
      "3/3 [==============================] - 0s 5ms/step - loss: 0.2256 - accuracy: 0.9545\n",
      "Epoch 172/300\n",
      "3/3 [==============================] - 0s 5ms/step - loss: 0.2219 - accuracy: 0.9091\n",
      "Epoch 173/300\n",
      "3/3 [==============================] - 0s 4ms/step - loss: 0.2400 - accuracy: 0.9318\n",
      "Epoch 174/300\n",
      "3/3 [==============================] - 0s 5ms/step - loss: 0.2290 - accuracy: 0.9773\n",
      "Epoch 175/300\n",
      "3/3 [==============================] - 0s 4ms/step - loss: 0.2153 - accuracy: 0.9318\n",
      "Epoch 176/300\n",
      "3/3 [==============================] - 0s 5ms/step - loss: 0.1676 - accuracy: 0.9773\n",
      "Epoch 177/300\n",
      "3/3 [==============================] - 0s 4ms/step - loss: 0.1560 - accuracy: 0.9773\n",
      "Epoch 178/300\n",
      "3/3 [==============================] - 0s 5ms/step - loss: 0.1804 - accuracy: 0.9773\n",
      "Epoch 179/300\n",
      "3/3 [==============================] - 0s 4ms/step - loss: 0.1912 - accuracy: 0.9773\n",
      "Epoch 180/300\n",
      "3/3 [==============================] - 0s 4ms/step - loss: 0.1787 - accuracy: 0.9318\n",
      "Epoch 181/300\n",
      "3/3 [==============================] - 0s 5ms/step - loss: 0.1522 - accuracy: 0.9773\n",
      "Epoch 182/300\n",
      "3/3 [==============================] - 0s 4ms/step - loss: 0.1214 - accuracy: 0.9773\n",
      "Epoch 183/300\n",
      "3/3 [==============================] - 0s 5ms/step - loss: 0.2064 - accuracy: 0.9545\n",
      "Epoch 184/300\n",
      "3/3 [==============================] - 0s 4ms/step - loss: 0.1997 - accuracy: 0.9773\n",
      "Epoch 185/300\n",
      "3/3 [==============================] - 0s 4ms/step - loss: 0.2102 - accuracy: 0.9545\n",
      "Epoch 186/300\n",
      "3/3 [==============================] - 0s 4ms/step - loss: 0.2250 - accuracy: 0.9091\n",
      "Epoch 187/300\n",
      "3/3 [==============================] - 0s 5ms/step - loss: 0.1688 - accuracy: 0.9545\n",
      "Epoch 188/300\n",
      "3/3 [==============================] - 0s 5ms/step - loss: 0.1470 - accuracy: 0.9773\n",
      "Epoch 189/300\n",
      "3/3 [==============================] - 0s 4ms/step - loss: 0.1697 - accuracy: 0.9773\n",
      "Epoch 190/300\n",
      "3/3 [==============================] - 0s 5ms/step - loss: 0.1423 - accuracy: 0.9545\n",
      "Epoch 191/300\n",
      "3/3 [==============================] - 0s 4ms/step - loss: 0.1511 - accuracy: 0.9773\n",
      "Epoch 192/300\n",
      "3/3 [==============================] - 0s 5ms/step - loss: 0.2020 - accuracy: 0.9318\n",
      "Epoch 193/300\n",
      "3/3 [==============================] - 0s 5ms/step - loss: 0.1378 - accuracy: 0.9545\n",
      "Epoch 194/300\n",
      "3/3 [==============================] - 0s 5ms/step - loss: 0.1277 - accuracy: 0.9773\n",
      "Epoch 195/300\n",
      "3/3 [==============================] - 0s 5ms/step - loss: 0.1317 - accuracy: 0.9773\n",
      "Epoch 196/300\n",
      "3/3 [==============================] - 0s 5ms/step - loss: 0.1460 - accuracy: 0.9773\n",
      "Epoch 197/300\n",
      "3/3 [==============================] - 0s 4ms/step - loss: 0.1584 - accuracy: 0.9773\n",
      "Epoch 198/300\n",
      "3/3 [==============================] - 0s 5ms/step - loss: 0.1388 - accuracy: 0.9773\n",
      "Epoch 199/300\n",
      "3/3 [==============================] - 0s 4ms/step - loss: 0.1694 - accuracy: 0.9773\n",
      "Epoch 200/300\n",
      "3/3 [==============================] - 0s 5ms/step - loss: 0.1478 - accuracy: 0.9545\n",
      "Epoch 201/300\n",
      "3/3 [==============================] - 0s 5ms/step - loss: 0.1664 - accuracy: 0.9545\n",
      "Epoch 202/300\n",
      "3/3 [==============================] - 0s 4ms/step - loss: 0.1513 - accuracy: 0.9545\n"
     ]
    }
   ],
   "source": [
    "hist = model.fit(x=train_X, y=train_y, \n",
    "                 epochs=300,\n",
    "                 batch_size = 16,\n",
    "                 callbacks =  [tf.keras.callbacks.EarlyStopping(monitor = 'loss',patience=20)]\n",
    "                 )"
   ]
  },
  {
   "cell_type": "code",
   "execution_count": 39,
   "metadata": {
    "id": "Pb1GZDjGRP6Q"
   },
   "outputs": [
    {
     "data": {
      "image/png": "[encoded data removed]",
      "text/plain": [
       "<Figure size 640x480 with 1 Axes>"
      ]
     },
     "metadata": {},
     "output_type": "display_data"
    }
   ],
   "source": [
    "import matplotlib.pyplot as plt\n",
    "import seaborn as sns\n",
    "\n",
    "# Entrenamiento\n",
    "epoch_count = range(1, len(hist.history['accuracy']) + 1)\n",
    "sns.lineplot(x=epoch_count,  y=hist.history['accuracy'], label='train')\n",
    "plt.show()"
   ]
  },
  {
   "cell_type": "code",
   "execution_count": 2,
   "metadata": {
    "id": "eTVDnrV0mDRf"
   },
   "outputs": [
    {
     "ename": "NameError",
     "evalue": "name 'words' is not defined",
     "output_type": "error",
     "traceback": [
      "\u001b[1;31m---------------------------------------------------------------------------\u001b[0m",
      "\u001b[1;31mNameError\u001b[0m                                 Traceback (most recent call last)",
      "Cell \u001b[1;32mIn[2], line 6\u001b[0m\n\u001b[0;32m      1\u001b[0m \u001b[39m# Guardar lo necesario para poder re-utilizar este modelo en el futuro\u001b[39;00m\n\u001b[0;32m      2\u001b[0m \u001b[39m# el vocabulario utilizado (words)\u001b[39;00m\n\u001b[0;32m      3\u001b[0m \u001b[39m# las posibles clases\u001b[39;00m\n\u001b[0;32m      4\u001b[0m \u001b[39m# el modelo\u001b[39;00m\n\u001b[0;32m      5\u001b[0m \u001b[39mimport\u001b[39;00m \u001b[39mpickle\u001b[39;00m\n\u001b[1;32m----> 6\u001b[0m pickle\u001b[39m.\u001b[39mdump(words, \u001b[39mopen\u001b[39m(\u001b[39m'\u001b[39m\u001b[39mwords.pkl\u001b[39m\u001b[39m'\u001b[39m,\u001b[39m'\u001b[39m\u001b[39mwb\u001b[39m\u001b[39m'\u001b[39m))\n\u001b[0;32m      7\u001b[0m pickle\u001b[39m.\u001b[39mdump(classes, \u001b[39mopen\u001b[39m(\u001b[39m'\u001b[39m\u001b[39mclasses.pkl\u001b[39m\u001b[39m'\u001b[39m,\u001b[39m'\u001b[39m\u001b[39mwb\u001b[39m\u001b[39m'\u001b[39m))\n\u001b[0;32m      8\u001b[0m model\u001b[39m.\u001b[39msave(\u001b[39m'\u001b[39m\u001b[39mchatbot_model.h5\u001b[39m\u001b[39m'\u001b[39m)\n",
      "\u001b[1;31mNameError\u001b[0m: name 'words' is not defined"
     ]
    }
   ],
   "source": [
    "# Guardar lo necesario para poder re-utilizar este modelo en el futuro\n",
    "# el vocabulario utilizado (words)\n",
    "# las posibles clases\n",
    "# el modelo\n",
    "import pickle\n",
    "pickle.dump(words, open('words.pkl','wb'))\n",
    "pickle.dump(classes, open('classes.pkl','wb'))\n",
    "model.save('chatbot_model.h5')"
   ]
  },
  {
   "attachments": {},
   "cell_type": "markdown",
   "metadata": {
    "id": "TnD1WvhBfVYR"
   },
   "source": [
    "### 6 - Testing y validación"
   ]
  },
  {
   "cell_type": "code",
   "execution_count": 40,
   "metadata": {
    "id": "kqBdSGt8Orkm"
   },
   "outputs": [],
   "source": [
    "# convertir texto de entrada del usuario a tokens\n",
    "def text_to_tokens(text):\n",
    "    lemma_tokens = []\n",
    "    tokens = nlp(preprocess_clean_text(text.lower()))\n",
    "    for token in tokens:\n",
    "        lemma_tokens.append(token.lemma_)\n",
    "    return lemma_tokens\n",
    "\n",
    "# transformar el texto de entrada tokenizado a una representación OHE\n",
    "def bag_of_words(text, vocab): \n",
    "    tokens = text_to_tokens(text)\n",
    "    bow = [0] * len(vocab)\n",
    "    for w in tokens: \n",
    "        for idx, word in enumerate(vocab):\n",
    "            if word == w: \n",
    "                bow[idx] = 1\n",
    "\n",
    "    return np.array(bow)\n",
    "\n",
    "# usar modelo con la entrada en OHE y los labels posibles (tags)\n",
    "def pred_class(text, vocab, labels): \n",
    "    bow = bag_of_words(text, vocab)\n",
    "    words_recognized = sum(bow)\n",
    "    print(words_recognized)\n",
    "    return_list = []\n",
    "    if words_recognized > 0: # sólo si reconoció alguna palabra del vocabulario\n",
    "        result = model.predict(np.array([bow]))[0] # es un array de softmax\n",
    "        thresh = 0.2\n",
    "        # filtrar aquellas entradas menores al umbral `thresh`\n",
    "        y_pred = [[idx, res] for idx, res in enumerate(result) if res > thresh]\n",
    "        # ordenar keys de acuerdo al valor softmax\n",
    "        y_pred.sort(key=lambda x: x[1], reverse=True)\n",
    "    \n",
    "        # return_list es una lista de los labels de mayor a menor\n",
    "        for r in y_pred:\n",
    "            return_list.append(labels[r[0]])\n",
    "            #print(labels[r[0]], r[1])\n",
    "\n",
    "    # si no reconoció palabras del vocabulario se devuelve una lista vacía\n",
    "    return return_list\n",
    "\n",
    "# obtener una respuesta predeterminada \n",
    "def get_response(intents_list, intents_json):\n",
    "    tag = intents_list[0] # tomar el tag con el mejor valor softmax\n",
    "    list_of_intents = intents_json[\"intents\"] # intents_json es todo el dataset\n",
    "    for i in list_of_intents: \n",
    "        if i[\"tag\"] == tag: # buscar el tag correspoindiente y dar una respuesta predeterminada aleatoria \n",
    "            result = random.choice(i[\"responses\"])\n",
    "            break\n",
    "    return result"
   ]
  },
  {
   "cell_type": "code",
   "execution_count": null,
   "metadata": {
    "id": "Xp1vXQwdOvl7"
   },
   "outputs": [
    {
     "name": "stdout",
     "output_type": "stream",
     "text": [
      "Q: hola\n",
      "1\n",
      "1/1 [==============================] - 0s 157ms/step\n",
      "BOT: Hola!\n",
      "Q: como estas?\n",
      "0\n",
      "BOT: Perdón, no comprendo la pregunta.\n",
      "Q: dame algo\n",
      "1\n",
      "1/1 [==============================] - 0s 30ms/step\n",
      "BOT: Contactos al whatsapp <numero>\n",
      "Q: quien sos?\n",
      "1\n",
      "1/1 [==============================] - 0s 30ms/step\n",
      "BOT: Mi nombre es TiendaPro\n",
      "Q: y tenes numero de contacto?\n",
      "3\n",
      "1/1 [==============================] - 0s 41ms/step\n",
      "BOT: Podes contactarnos al siguiente <numero>\n",
      "Q: Pueden hacer envios?\n",
      "1\n",
      "1/1 [==============================] - 0s 40ms/step\n",
      "BOT: Tenemos diferentes formas de envios según la zona, te recomiendo entrar a este <link>\n",
      "Q: cuanto vale?\n",
      "1\n",
      "1/1 [==============================] - 0s 37ms/step\n",
      "BOT: En el siguiente link podrás encontrar los precios de todos nuestros productos en stock\n",
      "Q: y los medios de pago?\n",
      "2\n",
      "1/1 [==============================] - 0s 35ms/step\n",
      "BOT: En el siguiente link podrás encontrar los beneficios y formas de pago vigentes\n",
      "Q: y tenes stock?\n",
      "2\n",
      "1/1 [==============================] - 0s 35ms/step\n",
      "BOT: Los productos publicados están en stock\n",
      "Q: muchas gracias\n",
      "1\n",
      "1/1 [==============================] - 0s 36ms/step\n",
      "BOT: Por nada!, cualquier otra consulta podes escribirme\n",
      "Q: adios\n",
      "1\n",
      "1/1 [==============================] - 0s 36ms/step\n",
      "BOT: Hablamos luego!\n"
     ]
    },
    {
     "ename": "",
     "evalue": "",
     "output_type": "error",
     "traceback": [
      "\u001b[1;31mCannot execute code, session has been disposed. Please try restarting the Kernel."
     ]
    },
    {
     "ename": "",
     "evalue": "",
     "output_type": "error",
     "traceback": [
      "\u001b[1;31mThe Kernel crashed while executing code in the the current cell or a previous cell. Please review the code in the cell(s) to identify a possible cause of the failure. Click <a href='https://aka.ms/vscodeJupyterKernelCrash'>here</a> for more info. View Jupyter <a href='command:jupyter.viewOutput'>log</a> for further details."
     ]
    }
   ],
   "source": [
    "while True:\n",
    "    # pedir input al usuario\n",
    "    message = input(\"\")\n",
    "    print(\"Q:\", message)\n",
    "\n",
    "    intents = pred_class(message, words, classes)\n",
    "    if len(intents) > 0:\n",
    "        result = get_response(intents, dataset)\n",
    "        print(\"BOT:\", result)\n",
    "    else: # si no hubo ningún resultado que supere el umbral\n",
    "        print(\"BOT: Perdón, no comprendo la pregunta.\")\n",
    "    "
   ]
  },
  {
   "attachments": {},
   "cell_type": "markdown",
   "metadata": {
    "id": "ayatkwp4fYQx"
   },
   "source": [
    "### 7 - Conclusiones\n",
    "El bot tal cual está definido es capaz de responder a bastantes tipos de preguntas con gran precisión. Algunas técnicas que podrían ensayarse para evaluar como impactan en el sistema son:\n",
    "- Filtrar los stop words\n",
    "- Utilizar TF-IDF en vez de bag of words"
   ]
  },
  {
   "attachments": {},
   "cell_type": "markdown",
   "metadata": {},
   "source": [
    "### Alumno"
   ]
  },
  {
   "attachments": {},
   "cell_type": "markdown",
   "metadata": {},
   "source": [
    "- Tomar un ejemplo de los bots utilizados (uno de los dos) y construir el propio.\n",
    "- Sacar conclusiones de los resultados.\n",
    "\n",
    "__IMPORTANTE__: Recuerde para la entrega del ejercicio debe quedar registrado en el colab las preguntas y las respuestas del BOT para que podamos evaluar el desempeño final."
   ]
  },
  {
   "cell_type": "markdown",
   "metadata": {},
   "source": [
    "# Cambios realizados\n",
    "\n",
    "- se agregaron frases\n",
    "- filtrado de stopwords\n",
    "- numero de epocas, batch_size y callbacks implementados\n",
    "\n",
    "# Conclusiones\n",
    "\n",
    "Se filtaron los stop words sin embargo esto afecta al modelo, si bien reduce la cantidad de parametros, en español las frases de saludo :\n",
    "-   como estas?\n",
    "-   que tal?\n",
    "\n",
    "contienen palabras consideradas como stopwords asi que el modelo no logra reconocer y contestar correctamente.\n",
    "\n",
    "Por otro lado se probo con frases las cuales no estan presentes explicitamente como pueden hacer envios? sin embargo contiene una similitud con las frases de entrenamiento,"
   ]
  }
 ],
 "metadata": {
  "colab": {
   "authorship_tag": "ABX9TyPZeXqdm2EV/WEA+xr24OAL",
   "collapsed_sections": [],
   "name": "2b - bot_dnn_spacy_esp.ipynb",
   "provenance": []
  },
  "kernelspec": {
   "display_name": "Python 3 (ipykernel)",
   "language": "python",
   "name": "python3"
  },
  "language_info": {
   "codemirror_mode": {
    "name": "ipython",
    "version": 3
   },
   "file_extension": ".py",
   "mimetype": "text/x-python",
   "name": "python",
   "nbconvert_exporter": "python",
   "pygments_lexer": "ipython3",
   "version": "3.10.0"
  }
 },
 "nbformat": 4,
 "nbformat_minor": 4
}
